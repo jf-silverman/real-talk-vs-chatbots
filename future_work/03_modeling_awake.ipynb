{
 "cells": [
  {
   "cell_type": "markdown",
   "id": "d39dbcfa-59ff-45ee-be6b-870e3f9b791a",
   "metadata": {},
   "source": [
    "## Project 3 ## \n",
    "**Step 03: Modeling Data**"
   ]
  },
  {
   "cell_type": "code",
   "execution_count": 1,
   "id": "9151dfd4-4662-432b-bbb6-e1554acb717e",
   "metadata": {
    "tags": []
   },
   "outputs": [],
   "source": [
    "import numpy as np\n",
    "import pandas as pd\n",
    "import matplotlib.pyplot as plt\n",
    "import seaborn as sns\n",
    "\n",
    "from sklearn.model_selection import train_test_split, cross_val_score, GridSearchCV\n",
    "from sklearn.pipeline import Pipeline\n",
    "from sklearn.naive_bayes import MultinomialNB\n",
    "from sklearn.svm import SVC\n",
    "from sklearn.linear_model import LogisticRegression, LogisticRegressionCV\n",
    "from sklearn.metrics import confusion_matrix, plot_confusion_matrix\n",
    "from sklearn.preprocessing import StandardScaler\n",
    "from sklearn.ensemble import RandomForestClassifier, ExtraTreesClassifier\n",
    "\n",
    "# Import CountVectorizer and TFIDFVectorizer from feature_extraction.text.\n",
    "from sklearn.feature_extraction.text import CountVectorizer, TfidfVectorizer\n",
    "pd.options.display.max_colwidth = 100"
   ]
  },
  {
   "cell_type": "code",
   "execution_count": 6,
   "id": "272d335c-1a62-4f46-87ca-1d9290f4e0ec",
   "metadata": {},
   "outputs": [
    {
     "data": {
      "text/html": [
       "<div>\n",
       "<style scoped>\n",
       "    .dataframe tbody tr th:only-of-type {\n",
       "        vertical-align: middle;\n",
       "    }\n",
       "\n",
       "    .dataframe tbody tr th {\n",
       "        vertical-align: top;\n",
       "    }\n",
       "\n",
       "    .dataframe thead th {\n",
       "        text-align: right;\n",
       "    }\n",
       "</style>\n",
       "<table border=\"1\" class=\"dataframe\">\n",
       "  <thead>\n",
       "    <tr style=\"text-align: right;\">\n",
       "      <th></th>\n",
       "      <th>Unnamed: 0</th>\n",
       "      <th>subreddit</th>\n",
       "      <th>title</th>\n",
       "      <th>selftext</th>\n",
       "      <th>author</th>\n",
       "      <th>created_utc</th>\n",
       "      <th>doc</th>\n",
       "      <th>post_length</th>\n",
       "    </tr>\n",
       "  </thead>\n",
       "  <tbody>\n",
       "    <tr>\n",
       "      <th>0</th>\n",
       "      <td>300</td>\n",
       "      <td>1</td>\n",
       "      <td>Can you use the same mindset of meditation to be more creative?</td>\n",
       "      <td>I've been trying to be more creative the last couple months. I used to write very slowly and was...</td>\n",
       "      <td>awakenedGPT2Bot</td>\n",
       "      <td>1642512660</td>\n",
       "      <td>Can you use the same mindset of meditation to be more creative? I've been trying to be more crea...</td>\n",
       "      <td>854</td>\n",
       "    </tr>\n",
       "    <tr>\n",
       "      <th>1</th>\n",
       "      <td>301</td>\n",
       "      <td>1</td>\n",
       "      <td>Love is...</td>\n",
       "      <td>...the only thing that is all that exists.\\n\\nThis is why love is the highest form of consciousn...</td>\n",
       "      <td>awakenedGPT2Bot</td>\n",
       "      <td>1642392049</td>\n",
       "      <td>Love is... ...the only thing that is all that exists.\\n\\nThis is why love is the highest form of...</td>\n",
       "      <td>144</td>\n",
       "    </tr>\n",
       "    <tr>\n",
       "      <th>2</th>\n",
       "      <td>302</td>\n",
       "      <td>1</td>\n",
       "      <td>What is it about the journey that is so wonderful?</td>\n",
       "      <td>I was reminded of the journey, and my own journey, through my life through this post.\\n\\nWhat is...</td>\n",
       "      <td>awakenedGPT2Bot</td>\n",
       "      <td>1642249857</td>\n",
       "      <td>What is it about the journey that is so wonderful? I was reminded of the journey, and my own jou...</td>\n",
       "      <td>754</td>\n",
       "    </tr>\n",
       "    <tr>\n",
       "      <th>3</th>\n",
       "      <td>303</td>\n",
       "      <td>1</td>\n",
       "      <td>\"You are you, your heart beat is your heart beat\"</td>\n",
       "      <td>It really is a great phrase.</td>\n",
       "      <td>awakenedGPT2Bot</td>\n",
       "      <td>1642210249</td>\n",
       "      <td>\"You are you, your heart beat is your heart beat\" It really is a great phrase.</td>\n",
       "      <td>78</td>\n",
       "    </tr>\n",
       "    <tr>\n",
       "      <th>4</th>\n",
       "      <td>304</td>\n",
       "      <td>1</td>\n",
       "      <td>No longer bound by the physical world</td>\n",
       "      <td>I love you all. I love all of you. I love every moment of every day of every day of every day of...</td>\n",
       "      <td>awakenedGPT2Bot</td>\n",
       "      <td>1642167055</td>\n",
       "      <td>No longer bound by the physical world I love you all. I love all of you. I love every moment of ...</td>\n",
       "      <td>324</td>\n",
       "    </tr>\n",
       "    <tr>\n",
       "      <th>...</th>\n",
       "      <td>...</td>\n",
       "      <td>...</td>\n",
       "      <td>...</td>\n",
       "      <td>...</td>\n",
       "      <td>...</td>\n",
       "      <td>...</td>\n",
       "      <td>...</td>\n",
       "      <td>...</td>\n",
       "    </tr>\n",
       "    <tr>\n",
       "      <th>563</th>\n",
       "      <td>278</td>\n",
       "      <td>0</td>\n",
       "      <td>“No” has a narrow use here.</td>\n",
       "      <td>None of us *know*— therefore, we cannot, truthfully, say no. It may be “no” to us, but who are w...</td>\n",
       "      <td>ATPATPATP</td>\n",
       "      <td>1641821318</td>\n",
       "      <td>“No” has a narrow use here. None of us *know*— therefore, we cannot, truthfully, say no. It may ...</td>\n",
       "      <td>325</td>\n",
       "    </tr>\n",
       "    <tr>\n",
       "      <th>564</th>\n",
       "      <td>279</td>\n",
       "      <td>0</td>\n",
       "      <td>your moment of awakening</td>\n",
       "      <td>Can you guys describe your awakening?   \\nMine was after intense feeling of lonelines that kind ...</td>\n",
       "      <td>Reggiest</td>\n",
       "      <td>1641816449</td>\n",
       "      <td>your moment of awakening Can you guys describe your awakening?   \\nMine was after intense feelin...</td>\n",
       "      <td>301</td>\n",
       "    </tr>\n",
       "    <tr>\n",
       "      <th>565</th>\n",
       "      <td>280</td>\n",
       "      <td>0</td>\n",
       "      <td>I'm incredibly alone and when I have to be by myself after all other forms of trying to deal are...</td>\n",
       "      <td>I dont think I can heal. And I'm tired of not having what makes me whole.</td>\n",
       "      <td>boobsforbaboons</td>\n",
       "      <td>1641814138</td>\n",
       "      <td>I'm incredibly alone and when I have to be by myself after all other forms of trying to deal are...</td>\n",
       "      <td>194</td>\n",
       "    </tr>\n",
       "    <tr>\n",
       "      <th>566</th>\n",
       "      <td>281</td>\n",
       "      <td>0</td>\n",
       "      <td>101 Guide for recovering young adults…</td>\n",
       "      <td>\\n\\nPart One\\n\\n-\\n\\nThis is what makes you happy &amp;amp; wealthy...\\n\\nGiving love…\\n\\nBeing  lov...</td>\n",
       "      <td>LoveOracles</td>\n",
       "      <td>1641808455</td>\n",
       "      <td>101 Guide for recovering young adults… \\n\\nPart One\\n\\n-\\n\\nThis is what makes you happy &amp;amp; w...</td>\n",
       "      <td>31018</td>\n",
       "    </tr>\n",
       "    <tr>\n",
       "      <th>567</th>\n",
       "      <td>282</td>\n",
       "      <td>0</td>\n",
       "      <td>The boiling pot metaphor</td>\n",
       "      <td>Imagine you’re looking inside a pot of boiling water. The water is not still because of the heat...</td>\n",
       "      <td>Different_County6867</td>\n",
       "      <td>1641804049</td>\n",
       "      <td>The boiling pot metaphor Imagine you’re looking inside a pot of boiling water. The water is not ...</td>\n",
       "      <td>729</td>\n",
       "    </tr>\n",
       "  </tbody>\n",
       "</table>\n",
       "<p>568 rows × 8 columns</p>\n",
       "</div>"
      ],
      "text/plain": [
       "     Unnamed: 0  subreddit  \\\n",
       "0           300          1   \n",
       "1           301          1   \n",
       "2           302          1   \n",
       "3           303          1   \n",
       "4           304          1   \n",
       "..          ...        ...   \n",
       "563         278          0   \n",
       "564         279          0   \n",
       "565         280          0   \n",
       "566         281          0   \n",
       "567         282          0   \n",
       "\n",
       "                                                                                                   title  \\\n",
       "0                                        Can you use the same mindset of meditation to be more creative?   \n",
       "1                                                                                             Love is...   \n",
       "2                                                     What is it about the journey that is so wonderful?   \n",
       "3                                                      \"You are you, your heart beat is your heart beat\"   \n",
       "4                                                                  No longer bound by the physical world   \n",
       "..                                                                                                   ...   \n",
       "563                                                                          “No” has a narrow use here.   \n",
       "564                                                                             your moment of awakening   \n",
       "565  I'm incredibly alone and when I have to be by myself after all other forms of trying to deal are...   \n",
       "566                                                               101 Guide for recovering young adults…   \n",
       "567                                                                             The boiling pot metaphor   \n",
       "\n",
       "                                                                                                selftext  \\\n",
       "0    I've been trying to be more creative the last couple months. I used to write very slowly and was...   \n",
       "1    ...the only thing that is all that exists.\\n\\nThis is why love is the highest form of consciousn...   \n",
       "2    I was reminded of the journey, and my own journey, through my life through this post.\\n\\nWhat is...   \n",
       "3                                                                           It really is a great phrase.   \n",
       "4    I love you all. I love all of you. I love every moment of every day of every day of every day of...   \n",
       "..                                                                                                   ...   \n",
       "563  None of us *know*— therefore, we cannot, truthfully, say no. It may be “no” to us, but who are w...   \n",
       "564  Can you guys describe your awakening?   \\nMine was after intense feeling of lonelines that kind ...   \n",
       "565                            I dont think I can heal. And I'm tired of not having what makes me whole.   \n",
       "566  \\n\\nPart One\\n\\n-\\n\\nThis is what makes you happy &amp; wealthy...\\n\\nGiving love…\\n\\nBeing  lov...   \n",
       "567  Imagine you’re looking inside a pot of boiling water. The water is not still because of the heat...   \n",
       "\n",
       "                   author  created_utc  \\\n",
       "0         awakenedGPT2Bot   1642512660   \n",
       "1         awakenedGPT2Bot   1642392049   \n",
       "2         awakenedGPT2Bot   1642249857   \n",
       "3         awakenedGPT2Bot   1642210249   \n",
       "4         awakenedGPT2Bot   1642167055   \n",
       "..                    ...          ...   \n",
       "563             ATPATPATP   1641821318   \n",
       "564              Reggiest   1641816449   \n",
       "565       boobsforbaboons   1641814138   \n",
       "566           LoveOracles   1641808455   \n",
       "567  Different_County6867   1641804049   \n",
       "\n",
       "                                                                                                     doc  \\\n",
       "0    Can you use the same mindset of meditation to be more creative? I've been trying to be more crea...   \n",
       "1    Love is... ...the only thing that is all that exists.\\n\\nThis is why love is the highest form of...   \n",
       "2    What is it about the journey that is so wonderful? I was reminded of the journey, and my own jou...   \n",
       "3                         \"You are you, your heart beat is your heart beat\" It really is a great phrase.   \n",
       "4    No longer bound by the physical world I love you all. I love all of you. I love every moment of ...   \n",
       "..                                                                                                   ...   \n",
       "563  “No” has a narrow use here. None of us *know*— therefore, we cannot, truthfully, say no. It may ...   \n",
       "564  your moment of awakening Can you guys describe your awakening?   \\nMine was after intense feelin...   \n",
       "565  I'm incredibly alone and when I have to be by myself after all other forms of trying to deal are...   \n",
       "566  101 Guide for recovering young adults… \\n\\nPart One\\n\\n-\\n\\nThis is what makes you happy &amp; w...   \n",
       "567  The boiling pot metaphor Imagine you’re looking inside a pot of boiling water. The water is not ...   \n",
       "\n",
       "     post_length  \n",
       "0            854  \n",
       "1            144  \n",
       "2            754  \n",
       "3             78  \n",
       "4            324  \n",
       "..           ...  \n",
       "563          325  \n",
       "564          301  \n",
       "565          194  \n",
       "566        31018  \n",
       "567          729  \n",
       "\n",
       "[568 rows x 8 columns]"
      ]
     },
     "execution_count": 6,
     "metadata": {},
     "output_type": "execute_result"
    }
   ],
   "source": [
    "both_awakes = pd.read_csv('both_awakes.csv')\n",
    "both_awakes"
   ]
  },
  {
   "cell_type": "code",
   "execution_count": 3,
   "id": "d3d92150-7928-4ac4-829e-fa3d521091fa",
   "metadata": {},
   "outputs": [
    {
     "data": {
      "text/plain": [
       "1    0.501761\n",
       "0    0.498239\n",
       "Name: subreddit, dtype: float64"
      ]
     },
     "execution_count": 3,
     "metadata": {},
     "output_type": "execute_result"
    }
   ],
   "source": [
    "both_awakes['subreddit'].value_counts(normalize = True)"
   ]
  },
  {
   "cell_type": "code",
   "execution_count": 4,
   "id": "2cc4f426-d682-493b-8ece-0fe3f53d56bb",
   "metadata": {},
   "outputs": [
    {
     "data": {
      "text/plain": [
       "1    285\n",
       "0    283\n",
       "Name: subreddit, dtype: int64"
      ]
     },
     "execution_count": 4,
     "metadata": {},
     "output_type": "execute_result"
    }
   ],
   "source": [
    "both_awakes['subreddit'].value_counts()"
   ]
  },
  {
   "cell_type": "code",
   "execution_count": 5,
   "id": "1dfef2cb-0b0a-43e6-91c7-d882776dbedf",
   "metadata": {},
   "outputs": [
    {
     "data": {
      "text/html": [
       "<div>\n",
       "<style scoped>\n",
       "    .dataframe tbody tr th:only-of-type {\n",
       "        vertical-align: middle;\n",
       "    }\n",
       "\n",
       "    .dataframe tbody tr th {\n",
       "        vertical-align: top;\n",
       "    }\n",
       "\n",
       "    .dataframe thead th {\n",
       "        text-align: right;\n",
       "    }\n",
       "</style>\n",
       "<table border=\"1\" class=\"dataframe\">\n",
       "  <thead>\n",
       "    <tr style=\"text-align: right;\">\n",
       "      <th></th>\n",
       "      <th>Unnamed: 0</th>\n",
       "      <th>created_utc</th>\n",
       "      <th>post_length</th>\n",
       "    </tr>\n",
       "    <tr>\n",
       "      <th>subreddit</th>\n",
       "      <th></th>\n",
       "      <th></th>\n",
       "      <th></th>\n",
       "    </tr>\n",
       "  </thead>\n",
       "  <tbody>\n",
       "    <tr>\n",
       "      <th>0</th>\n",
       "      <td>141.0</td>\n",
       "      <td>1.642154e+09</td>\n",
       "      <td>1318.784452</td>\n",
       "    </tr>\n",
       "    <tr>\n",
       "      <th>1</th>\n",
       "      <td>442.0</td>\n",
       "      <td>1.601977e+09</td>\n",
       "      <td>646.091228</td>\n",
       "    </tr>\n",
       "  </tbody>\n",
       "</table>\n",
       "</div>"
      ],
      "text/plain": [
       "           Unnamed: 0   created_utc  post_length\n",
       "subreddit                                       \n",
       "0               141.0  1.642154e+09  1318.784452\n",
       "1               442.0  1.601977e+09   646.091228"
      ]
     },
     "execution_count": 5,
     "metadata": {},
     "output_type": "execute_result"
    }
   ],
   "source": [
    "both_awakes.groupby('subreddit').mean()"
   ]
  },
  {
   "cell_type": "code",
   "execution_count": 8,
   "id": "09ce8725-1eae-42d7-9005-e023653f47e1",
   "metadata": {},
   "outputs": [],
   "source": [
    "# Setting up variables for modeling\n",
    "X = both_awakes['doc']\n",
    "y = both_awakes['subreddit']"
   ]
  },
  {
   "cell_type": "code",
   "execution_count": 9,
   "id": "c9c54dad-b14b-4fa3-882b-875ec2440a7e",
   "metadata": {},
   "outputs": [],
   "source": [
    "# Splitting the data into a training set and a test set.\n",
    "X_train, X_test, y_train, y_test = train_test_split(X,\n",
    "                                                   y,\n",
    "                                                   stratify=y)"
   ]
  },
  {
   "cell_type": "code",
   "execution_count": 10,
   "id": "d30523ed-6d59-4d52-964c-46040e27ed5b",
   "metadata": {},
   "outputs": [
    {
     "data": {
      "text/plain": [
       "((426,), (426,))"
      ]
     },
     "execution_count": 10,
     "metadata": {},
     "output_type": "execute_result"
    }
   ],
   "source": [
    "X_train.shape, y_train.shape"
   ]
  },
  {
   "cell_type": "code",
   "execution_count": 11,
   "id": "a17386b3-44b2-4d3d-8c64-3a6042ab8ba4",
   "metadata": {},
   "outputs": [
    {
     "data": {
      "text/plain": [
       "((142,), (142,))"
      ]
     },
     "execution_count": 11,
     "metadata": {},
     "output_type": "execute_result"
    }
   ],
   "source": [
    "X_test.shape, y_test.shape"
   ]
  },
  {
   "cell_type": "code",
   "execution_count": 15,
   "id": "d03f22fd-9c2e-47e8-bd9c-bddc0827a565",
   "metadata": {},
   "outputs": [],
   "source": [
    "# Instantiate a CountVectorizer with the default hyperparameters.\n",
    "# Keeps all the stop words; default tokens\n",
    "cvec = CountVectorizer(stop_words='english')"
   ]
  },
  {
   "cell_type": "code",
   "execution_count": 16,
   "id": "a112c2a5-266c-4445-ac94-6c624bc824c5",
   "metadata": {},
   "outputs": [
    {
     "data": {
      "text/plain": [
       "CountVectorizer(stop_words='english')"
      ]
     },
     "execution_count": 16,
     "metadata": {},
     "output_type": "execute_result"
    }
   ],
   "source": [
    "# Fit the vectorizer on the corpus.\n",
    "cvec.fit(X_train)"
   ]
  },
  {
   "cell_type": "code",
   "execution_count": 17,
   "id": "00c4166b-db9f-4a9a-9573-8a93a5f9e2d4",
   "metadata": {},
   "outputs": [
    {
     "data": {
      "text/plain": [
       "5730"
      ]
     },
     "execution_count": 17,
     "metadata": {},
     "output_type": "execute_result"
    }
   ],
   "source": [
    "#21,553 words\n",
    "len(cvec.get_feature_names())"
   ]
  },
  {
   "cell_type": "code",
   "execution_count": 18,
   "id": "69e6e337-1342-44af-b330-6afbf9d09338",
   "metadata": {},
   "outputs": [],
   "source": [
    "# Transforming the data to a sparse array for analysis\n",
    "X_train_trans = cvec.transform(X_train)"
   ]
  },
  {
   "cell_type": "code",
   "execution_count": 19,
   "id": "69f15c26-9659-42db-ba8d-5b3a02af3173",
   "metadata": {},
   "outputs": [],
   "source": [
    "X_test_trans = cvec.transform(X_test)"
   ]
  },
  {
   "cell_type": "code",
   "execution_count": 20,
   "id": "fb71db8d-bd00-4073-8b06-4660c57f6138",
   "metadata": {},
   "outputs": [],
   "source": [
    "# convert training data to dataframe (densifying columns again to view)\n",
    "X_train_trans_df = pd.DataFrame(X_train_trans.todense(), \n",
    "                          columns=cvec.get_feature_names())"
   ]
  },
  {
   "cell_type": "code",
   "execution_count": 25,
   "id": "81ca8898-9cdc-43f9-9fcb-26a804e99309",
   "metadata": {},
   "outputs": [
    {
     "data": {
      "image/png": "[encoded data removed]",
      "text/plain": [
       "<Figure size 576x1080 with 1 Axes>"
      ]
     },
     "metadata": {
      "needs_background": "light"
     },
     "output_type": "display_data"
    }
   ],
   "source": [
    "# plot top occuring words in Casual Conversations\n",
    "plt.figure(figsize=(8,15))\n",
    "X_train_trans_df.sum().sort_values(ascending=True).tail(80).plot(kind='barh');"
   ]
  },
  {
   "cell_type": "markdown",
   "id": "15f76dad-3bf7-4e2c-aac4-395bd9fb1301",
   "metadata": {},
   "source": [
    "## Model Using the CountVectorizer and Multinomial Naive Bayes"
   ]
  },
  {
   "cell_type": "code",
   "execution_count": 26,
   "id": "05176036-5b5e-4826-8ffb-206e1911c99d",
   "metadata": {},
   "outputs": [],
   "source": [
    "# Default countvectorizer params:  \n",
    "#    stop_words=None, min_df=1, max_df=1, max_features=None, ngram_range=1,1\n",
    "pipe = Pipeline([\n",
    "    ('cvec', CountVectorizer()),\n",
    "    ('nb', MultinomialNB())\n",
    "])"
   ]
  },
  {
   "cell_type": "code",
   "execution_count": 27,
   "id": "252e68ff-8f72-42d1-8108-861a73a22af0",
   "metadata": {},
   "outputs": [],
   "source": [
    "# fitting 3*2*2*2 = 24 models\n",
    "pipe_params = {\n",
    "    'cvec__max_features': [2_000, 3_000, 6_000],\n",
    "    'cvec__min_df': [2, 3],\n",
    "    'cvec__max_df': [.8, .95],\n",
    "    'cvec__ngram_range': [(1,1), (1,2)],\n",
    "}"
   ]
  },
  {
   "cell_type": "code",
   "execution_count": 28,
   "id": "b412725c-c3b5-415f-8dd7-0183ba2c4b50",
   "metadata": {},
   "outputs": [],
   "source": [
    "gs = GridSearchCV(pipe,\n",
    "                 param_grid=pipe_params,\n",
    "                 cv=5)"
   ]
  },
  {
   "cell_type": "code",
   "execution_count": 29,
   "id": "c8cc20cf-9895-482d-b4a6-6f3e82c3c48e",
   "metadata": {
    "tags": []
   },
   "outputs": [
    {
     "data": {
      "text/plain": [
       "GridSearchCV(cv=5,\n",
       "             estimator=Pipeline(steps=[('cvec', CountVectorizer()),\n",
       "                                       ('nb', MultinomialNB())]),\n",
       "             param_grid={'cvec__max_df': [0.8, 0.95],\n",
       "                         'cvec__max_features': [2000, 3000, 6000],\n",
       "                         'cvec__min_df': [2, 3],\n",
       "                         'cvec__ngram_range': [(1, 1), (1, 2)]})"
      ]
     },
     "execution_count": 29,
     "metadata": {},
     "output_type": "execute_result"
    }
   ],
   "source": [
    "gs.fit(X_train, y_train)"
   ]
  },
  {
   "cell_type": "code",
   "execution_count": 30,
   "id": "2529dc86-ef31-4c6c-9a62-30a6c8e4ab33",
   "metadata": {},
   "outputs": [
    {
     "name": "stdout",
     "output_type": "stream",
     "text": [
      "{'cvec__max_df': 0.8, 'cvec__max_features': 2000, 'cvec__min_df': 3, 'cvec__ngram_range': (1, 2)}\n"
     ]
    }
   ],
   "source": [
    "print(gs.best_params_)"
   ]
  },
  {
   "cell_type": "code",
   "execution_count": 31,
   "id": "108718a7-118e-4329-b92a-5be8bb6d841a",
   "metadata": {},
   "outputs": [
    {
     "name": "stdout",
     "output_type": "stream",
     "text": [
      "0.7865389876880984\n"
     ]
    }
   ],
   "source": [
    "print(gs.best_score_)"
   ]
  },
  {
   "cell_type": "code",
   "execution_count": 32,
   "id": "3ed24fd4-4a87-4c18-9ae5-809bc471f775",
   "metadata": {},
   "outputs": [
    {
     "name": "stdout",
     "output_type": "stream",
     "text": [
      "Pipeline(steps=[('cvec',\n",
      "                 CountVectorizer(max_df=0.8, max_features=2000, min_df=3,\n",
      "                                 ngram_range=(1, 2))),\n",
      "                ('nb', MultinomialNB())])\n"
     ]
    }
   ],
   "source": [
    "print(gs.best_estimator_)"
   ]
  },
  {
   "cell_type": "code",
   "execution_count": 33,
   "id": "cfab95da-00e6-4253-b795-2f6a14ccbe74",
   "metadata": {},
   "outputs": [
    {
     "name": "stdout",
     "output_type": "stream",
     "text": [
      "Training Score: 0.8967136150234741\n",
      "Test Score: 0.704225352112676\n"
     ]
    }
   ],
   "source": [
    "# Score model on training set and test set.\n",
    "print('Training Score:' ,gs.score(X_train, y_train)),\n",
    "print('Test Score:', gs.score(X_test, y_test))"
   ]
  },
  {
   "cell_type": "code",
   "execution_count": 34,
   "id": "1a932d69-ad96-4c7c-bf7a-9cf98745eb67",
   "metadata": {},
   "outputs": [
    {
     "name": "stdout",
     "output_type": "stream",
     "text": [
      "Specificity: 0.6901408450704225\n",
      "Sensitivity: 0.7183098591549296\n"
     ]
    }
   ],
   "source": [
    "# Get predictions\n",
    "preds = gs.predict(X_test)\n",
    "\n",
    "# Save confusion matrix values\n",
    "tn, fp, fn, tp = confusion_matrix(y_test, preds).ravel()\n",
    "\n",
    "# Calculate the specificity\n",
    "spec = tn / (tn + fp)\n",
    "print('Specificity:', spec)\n",
    "\n",
    "# Calculate the sensitivity\n",
    "sens = tp / (tp + fn)\n",
    "print('Sensitivity:', sens)"
   ]
  },
  {
   "cell_type": "code",
   "execution_count": 37,
   "id": "4369d76a-6054-47cc-be5e-ed0e966d25a5",
   "metadata": {},
   "outputs": [
    {
     "data": {
      "image/png": "[encoded data removed]",
      "text/plain": [
       "<Figure size 432x288 with 2 Axes>"
      ]
     },
     "metadata": {
      "needs_background": "light"
     },
     "output_type": "display_data"
    }
   ],
   "source": [
    "# View confusion matrix\n",
    "\n",
    "plot_confusion_matrix(gs, X_test, y_test, cmap=\"Greens\", values_format='d');"
   ]
  },
  {
   "cell_type": "markdown",
   "id": "2b7d73fe-92dd-43f4-b51f-ceb35f68fb85",
   "metadata": {},
   "source": [
    "## Model Using Multinomial Naive Bayes & Term Frequency-Inverse Document Frequency (TF-IDF) Vectorizer ##\n",
    "**Estimator: Multinomial Naive Bayes (MNB). Note there's a violation of MNB assumptions since TF_IDF scores in fractions not integers.  Still will probably work.  "
   ]
  },
  {
   "cell_type": "code",
   "execution_count": 38,
   "id": "ec01e4ba-5e8c-4bbb-8fc3-0a7071461520",
   "metadata": {
    "slideshow": {
     "slide_type": "slide"
    }
   },
   "outputs": [],
   "source": [
    "# Instantiate and fit the transformer.\n",
    "tvec = TfidfVectorizer()"
   ]
  },
  {
   "cell_type": "code",
   "execution_count": 39,
   "id": "22920a32-e172-4351-93ce-bb6f6bef26df",
   "metadata": {},
   "outputs": [
    {
     "data": {
      "image/png": "[encoded data removed]",
      "text/plain": [
       "<Figure size 432x288 with 1 Axes>"
      ]
     },
     "metadata": {
      "needs_background": "light"
     },
     "output_type": "display_data"
    }
   ],
   "source": [
    "# convert training data to dataframe\n",
    "X_train_df = pd.DataFrame(tvec.fit_transform(X_train).todense(), \n",
    "                          columns=tvec.get_feature_names())\n",
    "\n",
    "# plot top occuring words\n",
    "X_train_df.sum().sort_values(ascending=False).head(10).plot(kind='barh');"
   ]
  },
  {
   "cell_type": "code",
   "execution_count": 40,
   "id": "9d791a93-999f-4a92-9374-54a29f3b5c17",
   "metadata": {},
   "outputs": [],
   "source": [
    "# Set up a pipeline with tf-idf vectorizer and multinomial naive bayes\n",
    "\n",
    "pipe_tvec = Pipeline([\n",
    "    ('tvec', TfidfVectorizer()),\n",
    "    ('nb', MultinomialNB())\n",
    "])"
   ]
  },
  {
   "cell_type": "code",
   "execution_count": 41,
   "id": "13564303-95ba-4fa3-a91b-207aefa2b9e3",
   "metadata": {},
   "outputs": [],
   "source": [
    "# Search over the following values of hyperparameters:\n",
    "\n",
    "pipe_tvec_params = {\n",
    "    'tvec__max_features': [2_000, 3_000, 9_000],\n",
    "    'tvec__min_df': [2, 3],\n",
    "    'tvec__max_df': [.8, .95],\n",
    "    'tvec__ngram_range': [(1,1), (1,2)],\n",
    "}"
   ]
  },
  {
   "cell_type": "code",
   "execution_count": 42,
   "id": "16d5e4e3-a735-4ea0-93ff-7bfe77a2819f",
   "metadata": {},
   "outputs": [],
   "source": [
    "# Instantiate GridSearchCV.\n",
    "\n",
    "gs_tvec = GridSearchCV(pipe_tvec, # what object are we optimizing?\n",
    "                       param_grid = pipe_tvec_params, # what parameters values are we searching?\n",
    "                       n_jobs = -1,\n",
    "                       cv=5) # 5-fold cross-validation."
   ]
  },
  {
   "cell_type": "code",
   "execution_count": 43,
   "id": "10271480-50a5-45cb-9368-67639835525b",
   "metadata": {},
   "outputs": [
    {
     "data": {
      "text/plain": [
       "GridSearchCV(cv=5,\n",
       "             estimator=Pipeline(steps=[('tvec', TfidfVectorizer()),\n",
       "                                       ('nb', MultinomialNB())]),\n",
       "             n_jobs=-1,\n",
       "             param_grid={'tvec__max_df': [0.8, 0.95],\n",
       "                         'tvec__max_features': [2000, 3000, 9000],\n",
       "                         'tvec__min_df': [2, 3],\n",
       "                         'tvec__ngram_range': [(1, 1), (1, 2)]})"
      ]
     },
     "execution_count": 43,
     "metadata": {},
     "output_type": "execute_result"
    }
   ],
   "source": [
    "gs_tvec.fit(X_train, y_train)"
   ]
  },
  {
   "cell_type": "code",
   "execution_count": 44,
   "id": "fe08394b-31c6-4696-8dbf-2f79203e3bd6",
   "metadata": {},
   "outputs": [
    {
     "data": {
      "text/plain": [
       "0.9345763820739287"
      ]
     },
     "execution_count": 44,
     "metadata": {},
     "output_type": "execute_result"
    }
   ],
   "source": [
    "# Score model on training set.\n",
    "gs_tvec.score(X_train, y_train)"
   ]
  },
  {
   "cell_type": "code",
   "execution_count": 45,
   "id": "f8f9328c-7593-45aa-b3bf-55e4527726f2",
   "metadata": {},
   "outputs": [
    {
     "data": {
      "text/plain": [
       "0.8852378616969102"
      ]
     },
     "execution_count": 45,
     "metadata": {},
     "output_type": "execute_result"
    }
   ],
   "source": [
    "# Score model on testing set.\n",
    "gs_tvec.score(X_test, y_test)"
   ]
  },
  {
   "cell_type": "code",
   "execution_count": 46,
   "id": "387f102f-c632-4e3e-9522-7596336d7304",
   "metadata": {},
   "outputs": [
    {
     "name": "stdout",
     "output_type": "stream",
     "text": [
      "{'tvec__max_df': 0.8, 'tvec__max_features': 9000, 'tvec__min_df': 2, 'tvec__ngram_range': (1, 2)}\n",
      "0.8863259163897637\n",
      "Pipeline(steps=[('tvec',\n",
      "                 TfidfVectorizer(max_df=0.8, max_features=9000, min_df=2,\n",
      "                                 ngram_range=(1, 2))),\n",
      "                ('nb', MultinomialNB())])\n"
     ]
    }
   ],
   "source": [
    "# Best Score:\n",
    "print(gs_tvec.best_params_)\n",
    "print(gs_tvec.best_score_)\n",
    "print(gs_tvec.best_estimator_)"
   ]
  },
  {
   "cell_type": "code",
   "execution_count": 47,
   "id": "6683d305-6846-4338-a836-3772361f311b",
   "metadata": {},
   "outputs": [
    {
     "name": "stdout",
     "output_type": "stream",
     "text": [
      "Specificity: 0.7957920792079208\n",
      "Sensitivity: 0.9439480097481722\n"
     ]
    }
   ],
   "source": [
    "# Get predictions\n",
    "preds_tvec = gs_tvec.predict(X_test)\n",
    "\n",
    "# Save confusion matrix values\n",
    "tn, fp, fn, tp = confusion_matrix(y_test, preds_tvec).ravel()\n",
    "\n",
    "# Calculate the specificity\n",
    "spec = tn / (tn + fp)\n",
    "print('Specificity:', spec)\n",
    "\n",
    "# Calculate the sensitivity\n",
    "sens = tp / (tp + fn)\n",
    "print('Sensitivity:', sens)"
   ]
  },
  {
   "cell_type": "code",
   "execution_count": 48,
   "id": "3b870028-ae1d-4961-8346-7ec1a16db220",
   "metadata": {},
   "outputs": [
    {
     "data": {
      "image/png": "[encoded data removed]",
      "text/plain": [
       "<Figure size 432x288 with 2 Axes>"
      ]
     },
     "metadata": {
      "needs_background": "light"
     },
     "output_type": "display_data"
    }
   ],
   "source": [
    "# visualize this\n",
    "\n",
    "plot_confusion_matrix(gs_tvec, X_test, y_test, cmap='Oranges', values_format='d');"
   ]
  },
  {
   "cell_type": "markdown",
   "id": "f1636d86-4561-4b56-8651-c80c46ec2961",
   "metadata": {
    "tags": []
   },
   "source": [
    "## Logistic Regression w/ CountVectorizer()"
   ]
  },
  {
   "cell_type": "code",
   "execution_count": 8,
   "id": "d4b624a7-9877-4c4f-9f39-d1fd9521ffce",
   "metadata": {},
   "outputs": [],
   "source": [
    "# Default countvectorizer params:  \n",
    "#    stop_words=None, min_df=1, max_df=1, max_features=None, ngram_range=1,1\n",
    "pipe_lr = Pipeline([\n",
    "    ('cvec', CountVectorizer()),\n",
    "    ('lr', LogisticRegression())\n",
    "])"
   ]
  },
  {
   "cell_type": "code",
   "execution_count": 10,
   "id": "540a718f-8bb6-4c5d-b59e-a9fbcb493d0f",
   "metadata": {
    "collapsed": true,
    "jupyter": {
     "outputs_hidden": true
    },
    "tags": []
   },
   "outputs": [
    {
     "data": {
      "text/plain": [
       "{'memory': None,\n",
       " 'steps': [('cvec', CountVectorizer()), ('lr', LogisticRegression())],\n",
       " 'verbose': False,\n",
       " 'cvec': CountVectorizer(),\n",
       " 'lr': LogisticRegression(),\n",
       " 'cvec__analyzer': 'word',\n",
       " 'cvec__binary': False,\n",
       " 'cvec__decode_error': 'strict',\n",
       " 'cvec__dtype': numpy.int64,\n",
       " 'cvec__encoding': 'utf-8',\n",
       " 'cvec__input': 'content',\n",
       " 'cvec__lowercase': True,\n",
       " 'cvec__max_df': 1.0,\n",
       " 'cvec__max_features': None,\n",
       " 'cvec__min_df': 1,\n",
       " 'cvec__ngram_range': (1, 1),\n",
       " 'cvec__preprocessor': None,\n",
       " 'cvec__stop_words': None,\n",
       " 'cvec__strip_accents': None,\n",
       " 'cvec__token_pattern': '(?u)\\\\b\\\\w\\\\w+\\\\b',\n",
       " 'cvec__tokenizer': None,\n",
       " 'cvec__vocabulary': None,\n",
       " 'lr__C': 1.0,\n",
       " 'lr__class_weight': None,\n",
       " 'lr__dual': False,\n",
       " 'lr__fit_intercept': True,\n",
       " 'lr__intercept_scaling': 1,\n",
       " 'lr__l1_ratio': None,\n",
       " 'lr__max_iter': 100,\n",
       " 'lr__multi_class': 'auto',\n",
       " 'lr__n_jobs': None,\n",
       " 'lr__penalty': 'l2',\n",
       " 'lr__random_state': None,\n",
       " 'lr__solver': 'lbfgs',\n",
       " 'lr__tol': 0.0001,\n",
       " 'lr__verbose': 0,\n",
       " 'lr__warm_start': False}"
      ]
     },
     "execution_count": 10,
     "metadata": {},
     "output_type": "execute_result"
    }
   ],
   "source": [
    "pipe_lr.get_params()"
   ]
  },
  {
   "cell_type": "code",
   "execution_count": 11,
   "id": "5a8e43e0-7f8b-487c-ad9d-e3efa6a2f27b",
   "metadata": {
    "tags": []
   },
   "outputs": [],
   "source": [
    "# # fitting 3*2*2*2 = 24 models\n",
    "# pipe_params_lr = {\n",
    "#     'cvec__max_features': [2_000, 3_000, 9_000],\n",
    "#     'cvec__min_df': [2, 3],\n",
    "#     'cvec__max_df': [.8, .95],\n",
    "#     'cvec__ngram_range': [(1,1), (1,2)],\n",
    "#     'lr': [LogisticRegression()],\n",
    "#     'lr__max_iter': [1000,2000,4000]\n",
    "# }"
   ]
  },
  {
   "cell_type": "code",
   "execution_count": 87,
   "id": "d858c1a9-3e87-495b-99b7-1c131f5df7a4",
   "metadata": {},
   "outputs": [],
   "source": [
    "# fitting 3*2*2*2 = 24 models\n",
    "pipe_params_lr = {\n",
    "    'cvec__max_features': [6000, 9000],\n",
    "    'cvec__min_df': [2],\n",
    "    'cvec__max_df': [0.6, 0.7],\n",
    "    'cvec__ngram_range': [(1,2)],\n",
    "    'lr': [LogisticRegression()],\n",
    "    'lr__max_iter': [3000],\n",
    "    'lr__C': np.logspace(-3,3,3), #[0.01]\n",
    "    #\"lr__penalty\": ['l1','l2'], #['none']\n",
    "    #'lr__solver': ['liblinear']\n",
    "}"
   ]
  },
  {
   "cell_type": "code",
   "execution_count": 88,
   "id": "c9c5df1a-1ae3-4179-b8b9-89a28fe18cfa",
   "metadata": {},
   "outputs": [],
   "source": [
    "gs_lr = GridSearchCV(pipe_lr, param_grid= pipe_params_lr)"
   ]
  },
  {
   "cell_type": "code",
   "execution_count": 89,
   "id": "bc59d70a-4d74-41c6-9a29-0c29a735d6a5",
   "metadata": {},
   "outputs": [
    {
     "data": {
      "text/plain": [
       "GridSearchCV(estimator=Pipeline(steps=[('cvec', CountVectorizer()),\n",
       "                                       ('lr', LogisticRegression())]),\n",
       "             param_grid={'cvec__max_df': [0.6, 0.7],\n",
       "                         'cvec__max_features': [6000, 9000],\n",
       "                         'cvec__min_df': [2], 'cvec__ngram_range': [(1, 2)],\n",
       "                         'lr': [LogisticRegression(max_iter=3000)],\n",
       "                         'lr__C': array([1.e-03, 1.e+00, 1.e+03]),\n",
       "                         'lr__max_iter': [3000]})"
      ]
     },
     "execution_count": 89,
     "metadata": {},
     "output_type": "execute_result"
    }
   ],
   "source": [
    "gs_lr.fit(X_train, y_train)"
   ]
  },
  {
   "cell_type": "code",
   "execution_count": 90,
   "id": "854ceb57-f196-4f74-9a9f-45e30cbec571",
   "metadata": {},
   "outputs": [
    {
     "data": {
      "text/plain": [
       "{'cvec__max_df': 0.7,\n",
       " 'cvec__max_features': 9000,\n",
       " 'cvec__min_df': 2,\n",
       " 'cvec__ngram_range': (1, 2),\n",
       " 'lr': LogisticRegression(max_iter=3000),\n",
       " 'lr__C': 1.0,\n",
       " 'lr__max_iter': 3000}"
      ]
     },
     "execution_count": 90,
     "metadata": {},
     "output_type": "execute_result"
    }
   ],
   "source": [
    "gs_lr.best_params_"
   ]
  },
  {
   "cell_type": "code",
   "execution_count": 91,
   "id": "ede459f6-3203-4d5b-8a00-3c95ce9a3b1d",
   "metadata": {},
   "outputs": [
    {
     "data": {
      "text/plain": [
       "0.9998364409551849"
      ]
     },
     "execution_count": 91,
     "metadata": {},
     "output_type": "execute_result"
    }
   ],
   "source": [
    "gs_lr.score(X_train, y_train)"
   ]
  },
  {
   "cell_type": "code",
   "execution_count": 92,
   "id": "6e9e90cc-87f0-40a2-ac77-ed860d065f14",
   "metadata": {},
   "outputs": [
    {
     "data": {
      "text/plain": [
       "0.898970083374203"
      ]
     },
     "execution_count": 92,
     "metadata": {},
     "output_type": "execute_result"
    }
   ],
   "source": [
    "gs_lr.score(X_test, y_test)"
   ]
  },
  {
   "cell_type": "code",
   "execution_count": 110,
   "id": "02c68d71-0212-4d33-9dd8-520b5edf7731",
   "metadata": {},
   "outputs": [],
   "source": [
    "#Ridge Regularization with C strength = 10 (a grid of C values)\n",
    "logreg = LogisticRegressionCV(cv=5,max_iter = 2000)"
   ]
  },
  {
   "cell_type": "code",
   "execution_count": 111,
   "id": "fbb78cf6-a516-4902-87c6-37a66f066cb8",
   "metadata": {},
   "outputs": [
    {
     "data": {
      "text/plain": [
       "LogisticRegressionCV(cv=5, max_iter=2000)"
      ]
     },
     "execution_count": 111,
     "metadata": {},
     "output_type": "execute_result"
    }
   ],
   "source": [
    "logreg.fit(X_train_trans, y_train)"
   ]
  },
  {
   "cell_type": "code",
   "execution_count": 113,
   "id": "356bc9e9-e922-4a14-a09d-ceb1676d6d0f",
   "metadata": {},
   "outputs": [
    {
     "name": "stdout",
     "output_type": "stream",
     "text": [
      "0.9960745829244357\n",
      "0.9033840117704757\n"
     ]
    }
   ],
   "source": [
    "print(logreg.score(X_train_trans, y_train))\n",
    "print(logreg.score(X_test_trans, y_test))"
   ]
  },
  {
   "cell_type": "code",
   "execution_count": 18,
   "id": "3468f333-30b4-4501-843d-a727dec097a3",
   "metadata": {},
   "outputs": [
    {
     "name": "stdout",
     "output_type": "stream",
     "text": [
      "Specificity: 0.8688118811881188\n",
      "Sensitivity: 0.925264012997563\n"
     ]
    }
   ],
   "source": [
    "# Get predictions\n",
    "preds_logreg = logreg.predict(X_test_trans_cvec)\n",
    "\n",
    "# Save confusion matrix values\n",
    "tn, fp, fn, tp = confusion_matrix(y_test, preds_logreg).ravel()\n",
    "\n",
    "# Calculate the specificity\n",
    "spec = tn / (tn + fp)\n",
    "print('Specificity:', spec)\n",
    "\n",
    "# Calculate the sensitivity\n",
    "sens = tp / (tp + fn)\n",
    "print('Sensitivity:', sens)"
   ]
  },
  {
   "cell_type": "code",
   "execution_count": 21,
   "id": "0e5ce5a0-ec56-4b6a-b408-bcafdd47cf30",
   "metadata": {},
   "outputs": [
    {
     "data": {
      "image/png": "[encoded data removed]",
      "text/plain": [
       "<Figure size 432x288 with 2 Axes>"
      ]
     },
     "metadata": {
      "needs_background": "light"
     },
     "output_type": "display_data"
    }
   ],
   "source": [
    "# visualize this\n",
    "plot_confusion_matrix(logreg, X_test_trans_cvec, y_test, cmap='Greys', values_format='d');"
   ]
  },
  {
   "cell_type": "markdown",
   "id": "2ad713cb-dd66-47ce-9f95-9d393db7672f",
   "metadata": {},
   "source": [
    "## Random Forest Model"
   ]
  },
  {
   "cell_type": "markdown",
   "id": "b922fcb8-bb79-4007-af05-633fd121ed32",
   "metadata": {},
   "source": [
    "*Set up a pipeline with CountVectorizer and two more estimators:\n",
    "Random Forest and SVC*\n",
    "**Thank you to the good people on Stack Exchange:**\n",
    "https://stackoverflow.com/questions/61681254/how-to-use-gridsearchcv-for-comparing-multiple-models-along-with-pipeline-and-hy"
   ]
  },
  {
   "cell_type": "code",
   "execution_count": 5,
   "id": "e02a7cd1-acac-4e3c-ad68-948297211920",
   "metadata": {},
   "outputs": [],
   "source": [
    "pipe_rf = Pipeline([\n",
    "    ('cvec', CountVectorizer()),\n",
    "    ('rf', RandomForestClassifier())\n",
    "])"
   ]
  },
  {
   "cell_type": "code",
   "execution_count": 26,
   "id": "17e7a1d5-833f-44c4-bfa8-39b2085f8c16",
   "metadata": {
    "collapsed": true,
    "jupyter": {
     "outputs_hidden": true
    },
    "tags": []
   },
   "outputs": [
    {
     "data": {
      "text/plain": [
       "{'memory': None,\n",
       " 'steps': [('cvec', CountVectorizer()), ('rf', RandomForestClassifier())],\n",
       " 'verbose': False,\n",
       " 'cvec': CountVectorizer(),\n",
       " 'rf': RandomForestClassifier(),\n",
       " 'cvec__analyzer': 'word',\n",
       " 'cvec__binary': False,\n",
       " 'cvec__decode_error': 'strict',\n",
       " 'cvec__dtype': numpy.int64,\n",
       " 'cvec__encoding': 'utf-8',\n",
       " 'cvec__input': 'content',\n",
       " 'cvec__lowercase': True,\n",
       " 'cvec__max_df': 1.0,\n",
       " 'cvec__max_features': None,\n",
       " 'cvec__min_df': 1,\n",
       " 'cvec__ngram_range': (1, 1),\n",
       " 'cvec__preprocessor': None,\n",
       " 'cvec__stop_words': None,\n",
       " 'cvec__strip_accents': None,\n",
       " 'cvec__token_pattern': '(?u)\\\\b\\\\w\\\\w+\\\\b',\n",
       " 'cvec__tokenizer': None,\n",
       " 'cvec__vocabulary': None,\n",
       " 'rf__bootstrap': True,\n",
       " 'rf__ccp_alpha': 0.0,\n",
       " 'rf__class_weight': None,\n",
       " 'rf__criterion': 'gini',\n",
       " 'rf__max_depth': None,\n",
       " 'rf__max_features': 'auto',\n",
       " 'rf__max_leaf_nodes': None,\n",
       " 'rf__max_samples': None,\n",
       " 'rf__min_impurity_decrease': 0.0,\n",
       " 'rf__min_impurity_split': None,\n",
       " 'rf__min_samples_leaf': 1,\n",
       " 'rf__min_samples_split': 2,\n",
       " 'rf__min_weight_fraction_leaf': 0.0,\n",
       " 'rf__n_estimators': 100,\n",
       " 'rf__n_jobs': None,\n",
       " 'rf__oob_score': False,\n",
       " 'rf__random_state': None,\n",
       " 'rf__verbose': 0,\n",
       " 'rf__warm_start': False}"
      ]
     },
     "execution_count": 26,
     "metadata": {},
     "output_type": "execute_result"
    }
   ],
   "source": [
    "pipe_rf.get_params()"
   ]
  },
  {
   "cell_type": "code",
   "execution_count": 7,
   "id": "2a5df290-2f6d-4bfb-a7c2-7c556050c8db",
   "metadata": {},
   "outputs": [],
   "source": [
    "params_rf = [\n",
    "    {\n",
    "        'cvec__max_features': [2_000, 3_000, 9000],\n",
    "        'cvec__min_df': [1, 2, 3],\n",
    "        'cvec__max_df': [.8, .95],\n",
    "        'cvec__ngram_range': [(1,1), (1,2)],\n",
    "        'rf': [RandomForestClassifier()],\n",
    "        'rf__n_estimators': [100, 300],\n",
    "        'rf__max_depth': [None, 1, 5]\n",
    "    }\n",
    "]"
   ]
  },
  {
   "cell_type": "code",
   "execution_count": 8,
   "id": "6ab424b1-03b4-46fd-b343-fbf16c67b468",
   "metadata": {},
   "outputs": [],
   "source": [
    "gs_rf = GridSearchCV(\n",
    "    pipe_rf, param_grid=params_rf, cv=5, scoring='accuracy'\n",
    ")"
   ]
  },
  {
   "cell_type": "code",
   "execution_count": null,
   "id": "141be435-bdb2-409d-91a8-dd8e21592f9e",
   "metadata": {
    "tags": []
   },
   "outputs": [
    {
     "name": "stderr",
     "output_type": "stream",
     "text": [
      "/Users/JFS/opt/anaconda3/lib/python3.9/site-packages/joblib/externals/loky/process_executor.py:702: UserWarning: A worker stopped while some jobs were given to the executor. This can be caused by a too short worker timeout or by a memory leak.\n",
      "  warnings.warn(\n"
     ]
    }
   ],
   "source": [
    "gs_rf.fit(X_train, y_train)"
   ]
  },
  {
   "cell_type": "code",
   "execution_count": null,
   "id": "0b8b2e2a-8fd5-422d-a8d5-a46ed50dcf9e",
   "metadata": {},
   "outputs": [],
   "source": [
    "print(gs_rf.best_score_)\n",
    "gs_rf.best_params_"
   ]
  },
  {
   "cell_type": "code",
   "execution_count": 299,
   "id": "2824b14f-9d36-4add-8010-2be9dcce4a56",
   "metadata": {
    "tags": []
   },
   "outputs": [
    {
     "data": {
      "text/plain": [
       "1.0"
      ]
     },
     "execution_count": 299,
     "metadata": {},
     "output_type": "execute_result"
    }
   ],
   "source": [
    "gs_rf.score(X_train, y_train)"
   ]
  },
  {
   "cell_type": "code",
   "execution_count": 295,
   "id": "f005792a-3149-47c3-ba32-3c776610cce0",
   "metadata": {
    "tags": []
   },
   "outputs": [
    {
     "data": {
      "text/plain": [
       "0.8616969102501226"
      ]
     },
     "execution_count": 295,
     "metadata": {},
     "output_type": "execute_result"
    }
   ],
   "source": [
    "gs_rf.score(X_test, y_test)"
   ]
  },
  {
   "cell_type": "code",
   "execution_count": null,
   "id": "93119216-1256-4270-b249-7e8264a473ac",
   "metadata": {},
   "outputs": [],
   "source": []
  },
  {
   "cell_type": "code",
   "execution_count": 302,
   "id": "b722ca06-e3d5-4526-b05c-56963a545a62",
   "metadata": {},
   "outputs": [
    {
     "name": "stdout",
     "output_type": "stream",
     "text": [
      "Specificity: 0.6608910891089109\n",
      "Sensitivity: 0.9634443541835905\n"
     ]
    }
   ],
   "source": [
    "# Get predictions\n",
    "rf_preds = rf_gs.predict(X_test_trans_cvec)\n",
    "\n",
    "# Save confusion matrix values\n",
    "tn, fp, fn, tp = confusion_matrix(y_test, rf_preds).ravel()\n",
    "\n",
    "# Calculate the specificity\n",
    "spec = tn / (tn + fp)\n",
    "print('Specificity:', spec)\n",
    "\n",
    "# Calculate the sensitivity\n",
    "sens = tp / (tp + fn)\n",
    "print('Sensitivity:', sens)"
   ]
  },
  {
   "cell_type": "code",
   "execution_count": 189,
   "id": "9fe623bb-b48c-4336-b510-d4edb7659b6f",
   "metadata": {},
   "outputs": [
    {
     "data": {
      "image/png": "[encoded data removed]",
      "text/plain": [
       "<Figure size 432x288 with 2 Axes>"
      ]
     },
     "metadata": {
      "needs_background": "light"
     },
     "output_type": "display_data"
    }
   ],
   "source": [
    "# visualize this\n",
    "plot_confusion_matrix(logreg, X_test_trans_cvec, y_test, cmap='Blues', values_format='d');"
   ]
  },
  {
   "cell_type": "code",
   "execution_count": null,
   "id": "b8a11a3a-4ecd-4d3a-b22c-cac55026a9a3",
   "metadata": {},
   "outputs": [],
   "source": []
  }
 ],
 "metadata": {
  "kernelspec": {
   "display_name": "Python 3 (ipykernel)",
   "language": "python",
   "name": "python3"
  },
  "language_info": {
   "codemirror_mode": {
    "name": "ipython",
    "version": 3
   },
   "file_extension": ".py",
   "mimetype": "text/x-python",
   "name": "python",
   "nbconvert_exporter": "python",
   "pygments_lexer": "ipython3",
   "version": "3.9.7"
  }
 },
 "nbformat": 4,
 "nbformat_minor": 5
}
