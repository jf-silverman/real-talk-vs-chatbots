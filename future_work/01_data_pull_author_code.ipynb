{
 "cells": [
  {
   "cell_type": "markdown",
   "id": "e1a43001-7a70-4e73-b14c-f3e212590a91",
   "metadata": {},
   "source": [
    "## Project 3 ##   \n",
    "**Step 01: Data Pull From Reddit**"
   ]
  },
  {
   "cell_type": "code",
   "execution_count": 1,
   "id": "5f060568-8281-4bc2-8b10-bee0f3eba44b",
   "metadata": {},
   "outputs": [],
   "source": [
    "import numpy as np\n",
    "import pandas as pd\n",
    "import requests\n",
    "import time\n",
    "import random\n",
    "#from bs4 import BeautifulSoup\n"
   ]
  },
  {
   "cell_type": "code",
   "execution_count": 1,
   "id": "bce46c81-46a7-462d-a7f0-de7ce8081017",
   "metadata": {},
   "outputs": [],
   "source": [
    "# THE FOR LOOP BELOW WAS MADE WITH HELP FROM KEVIN GATES AND TANYA SHAPIRO"
   ]
  },
  {
   "cell_type": "code",
   "execution_count": 3,
   "id": "aeb06df4-2f33-4377-8edc-9bf5fb5683f5",
   "metadata": {},
   "outputs": [],
   "source": [
    "subsimulatorgpt2='https://api.pushshift.io/reddit/search/submission?subreddit=subsimulatorgpt2'\n",
    "casualconversation='https://api.pushshift.io/reddit/search/submission?subreddit=casualconversation'\n",
    "\n",
    "def subreddit_pull(url, subreddit, author, n_posts):\n",
    "    #setting num of iterations and creating blank posts list\n",
    "    x= n_posts/100\n",
    "    posts= []\n",
    "    params={'subreddit': subreddit,'author': author, 'size': 100,}\n",
    "    #creating loop\n",
    "    while x>0:\n",
    "\n",
    "        res= requests.get(url, params)\n",
    "        \n",
    "        if res.status_code != 200:\n",
    "            print(res.status_code)\n",
    "        else:\n",
    "            pass\n",
    "        \n",
    "        #adding posts to post list\n",
    "        posts+=res.json()['data']\n",
    "        \n",
    "        #grabbing earliest post and setting to 'before' param\n",
    "        earliest_post = res.json()['data'][-1]['created_utc']\n",
    "        params['before']= earliest_post\n",
    "        #reducing count and dictating sleep time between requests\n",
    "        x= x-1\n",
    "        time.sleep(random.randint(1, 3))\n",
    "    return pd.DataFrame(posts)[['subreddit', 'title', 'selftext','author', 'created_utc']]       \n",
    " \n"
   ]
  },
  {
   "cell_type": "code",
   "execution_count": 11,
   "id": "d841117f-152e-4114-bf60-056fa5f43efa",
   "metadata": {
    "tags": []
   },
   "outputs": [],
   "source": [
    "awakened_bot = subreddit_pull(\n",
    "    subsimulatorgpt2,\n",
    "    'subsimulatorgpt2',\n",
    "    'awakenedGPT2Bot', \n",
    "    300)"
   ]
  },
  {
   "cell_type": "code",
   "execution_count": 23,
   "id": "90f22d7a-6bf7-47c4-91ff-ad086aff61b8",
   "metadata": {
    "tags": []
   },
   "outputs": [
    {
     "name": "stdout",
     "output_type": "stream",
     "text": [
      "<class 'pandas.core.frame.DataFrame'>\n",
      "Int64Index: 286 entries, 0 to 285\n",
      "Data columns (total 5 columns):\n",
      " #   Column       Non-Null Count  Dtype \n",
      "---  ------       --------------  ----- \n",
      " 0   subreddit    286 non-null    object\n",
      " 1   title        286 non-null    object\n",
      " 2   selftext     286 non-null    object\n",
      " 3   author       286 non-null    object\n",
      " 4   created_utc  286 non-null    int64 \n",
      "dtypes: int64(1), object(4)\n",
      "memory usage: 13.4+ KB\n"
     ]
    }
   ],
   "source": [
    "awakened_bot.info()"
   ]
  },
  {
   "cell_type": "code",
   "execution_count": 14,
   "id": "dc05efe7-33ce-4cb4-babd-b013b924a82a",
   "metadata": {},
   "outputs": [],
   "source": [
    "awakened_bot.drop_duplicates(inplace=True)"
   ]
  },
  {
   "cell_type": "code",
   "execution_count": 21,
   "id": "d846bc4b-667f-4b64-a9cc-9f0451525db7",
   "metadata": {},
   "outputs": [
    {
     "data": {
      "text/html": [
       "<div>\n",
       "<style scoped>\n",
       "    .dataframe tbody tr th:only-of-type {\n",
       "        vertical-align: middle;\n",
       "    }\n",
       "\n",
       "    .dataframe tbody tr th {\n",
       "        vertical-align: top;\n",
       "    }\n",
       "\n",
       "    .dataframe thead th {\n",
       "        text-align: right;\n",
       "    }\n",
       "</style>\n",
       "<table border=\"1\" class=\"dataframe\">\n",
       "  <thead>\n",
       "    <tr style=\"text-align: right;\">\n",
       "      <th></th>\n",
       "      <th>subreddit</th>\n",
       "      <th>title</th>\n",
       "      <th>selftext</th>\n",
       "      <th>author</th>\n",
       "      <th>created_utc</th>\n",
       "    </tr>\n",
       "  </thead>\n",
       "  <tbody>\n",
       "    <tr>\n",
       "      <th>283</th>\n",
       "      <td>SubSimulatorGPT2</td>\n",
       "      <td>\"I am not my mind, nor my thoughts. I am not t...</td>\n",
       "      <td></td>\n",
       "      <td>awakenedGPT2Bot</td>\n",
       "      <td>1561230073</td>\n",
       "    </tr>\n",
       "  </tbody>\n",
       "</table>\n",
       "</div>"
      ],
      "text/plain": [
       "            subreddit                                              title  \\\n",
       "283  SubSimulatorGPT2  \"I am not my mind, nor my thoughts. I am not t...   \n",
       "\n",
       "    selftext           author  created_utc  \n",
       "283           awakenedGPT2Bot   1561230073  "
      ]
     },
     "execution_count": 21,
     "metadata": {},
     "output_type": "execute_result"
    }
   ],
   "source": [
    "awakened_bot[(awakened_bot['selftext']=='')]"
   ]
  },
  {
   "cell_type": "code",
   "execution_count": 25,
   "id": "e62e48e1-0ffd-4676-bd77-d55b8dace6cb",
   "metadata": {},
   "outputs": [],
   "source": [
    "awakened_bot.drop(283,axis=0, inplace=True)"
   ]
  },
  {
   "cell_type": "code",
   "execution_count": 22,
   "id": "f94ef3e9-bc2c-43d7-a5a1-4be68d3616a2",
   "metadata": {},
   "outputs": [],
   "source": [
    "awakened_bot.dropna(inplace=True)"
   ]
  },
  {
   "cell_type": "code",
   "execution_count": 26,
   "id": "23e751d7-1e58-484a-8829-6b0113c13f1b",
   "metadata": {},
   "outputs": [],
   "source": [
    "awakened_bot.to_csv('../data/awakened_bot.csv')"
   ]
  }
 ],
 "metadata": {
  "kernelspec": {
   "display_name": "Python 3 (ipykernel)",
   "language": "python",
   "name": "python3"
  },
  "language_info": {
   "codemirror_mode": {
    "name": "ipython",
    "version": 3
   },
   "file_extension": ".py",
   "mimetype": "text/x-python",
   "name": "python",
   "nbconvert_exporter": "python",
   "pygments_lexer": "ipython3",
   "version": "3.9.7"
  }
 },
 "nbformat": 4,
 "nbformat_minor": 5
}
