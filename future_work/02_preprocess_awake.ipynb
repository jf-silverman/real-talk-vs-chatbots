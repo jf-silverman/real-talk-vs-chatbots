{
 "cells": [
  {
   "cell_type": "markdown",
   "id": "882b9e0a-962c-44a5-9b9d-c770cd395f63",
   "metadata": {},
   "source": [
    "## Project 3 ## \n",
    "**Step 02: Preprocessing Data**"
   ]
  },
  {
   "cell_type": "code",
   "execution_count": 4,
   "id": "5cff8083-8c33-4ecc-8048-100590ee5f13",
   "metadata": {
    "tags": []
   },
   "outputs": [],
   "source": [
    "import numpy as np\n",
    "import pandas as pd\n",
    "import matplotlib.pyplot as plt\n",
    "import seaborn as sns\n",
    "    \n",
    "# Import CountVectorizer and TFIDFVectorizer from feature_extraction.text.\n",
    "from sklearn.feature_extraction.text import CountVectorizer, TfidfVectorizer\n",
    "from sklearn.feature_extraction import text \n",
    "pd.options.display.max_colwidth = 100"
   ]
  },
  {
   "cell_type": "code",
   "execution_count": 20,
   "id": "3ecbdb14-b42d-4398-b4de-cc165e8aa276",
   "metadata": {
    "tags": []
   },
   "outputs": [],
   "source": [
    "sub_awakened_clean = pd.read_csv('../data/sub_awakened_clean.csv',index_col=[0])\n",
    "#sub_awakened_clean"
   ]
  },
  {
   "cell_type": "code",
   "execution_count": 21,
   "id": "75138f71-608d-4bc4-9f20-b7b643e4f722",
   "metadata": {},
   "outputs": [],
   "source": [
    "# Changing index so all subsim are below 300\n",
    "sub_awakened_clean.index = (range(0,283))"
   ]
  },
  {
   "cell_type": "code",
   "execution_count": 22,
   "id": "14aee393-c898-407b-8254-c6cb580f8a3b",
   "metadata": {},
   "outputs": [],
   "source": [
    "bot_awakened = pd.read_csv('../data/bot_awakened.csv', index_col = [0])"
   ]
  },
  {
   "cell_type": "code",
   "execution_count": 23,
   "id": "52a7bb4a-7f53-4d46-842b-ea2d8906ba0c",
   "metadata": {},
   "outputs": [
    {
     "name": "stdout",
     "output_type": "stream",
     "text": [
      "<class 'pandas.core.frame.DataFrame'>\n",
      "Int64Index: 285 entries, 0 to 285\n",
      "Data columns (total 5 columns):\n",
      " #   Column       Non-Null Count  Dtype \n",
      "---  ------       --------------  ----- \n",
      " 0   subreddit    285 non-null    object\n",
      " 1   title        285 non-null    object\n",
      " 2   selftext     285 non-null    object\n",
      " 3   author       285 non-null    object\n",
      " 4   created_utc  285 non-null    int64 \n",
      "dtypes: int64(1), object(4)\n",
      "memory usage: 13.4+ KB\n"
     ]
    }
   ],
   "source": [
    "bot_awakened.info()"
   ]
  },
  {
   "cell_type": "code",
   "execution_count": 24,
   "id": "698244ff-60db-42b6-a34d-b8dc9dcbad9d",
   "metadata": {},
   "outputs": [],
   "source": [
    "# Shifting the index so cascon starts at 5000\n",
    "bot_awakened.index = (range(300,300+len(bot_awakened)))"
   ]
  },
  {
   "cell_type": "code",
   "execution_count": 25,
   "id": "13e5b37a-c98c-4548-a932-dc86a5f8de3a",
   "metadata": {},
   "outputs": [],
   "source": [
    "both_awakes = bot_awakened.append(sub_awakened_clean)"
   ]
  },
  {
   "cell_type": "code",
   "execution_count": 26,
   "id": "a6b6d945-c51a-4e1f-9a06-433c16e5fcbf",
   "metadata": {
    "tags": []
   },
   "outputs": [
    {
     "name": "stdout",
     "output_type": "stream",
     "text": [
      "<class 'pandas.core.frame.DataFrame'>\n",
      "Int64Index: 568 entries, 300 to 282\n",
      "Data columns (total 5 columns):\n",
      " #   Column       Non-Null Count  Dtype \n",
      "---  ------       --------------  ----- \n",
      " 0   subreddit    568 non-null    object\n",
      " 1   title        568 non-null    object\n",
      " 2   selftext     568 non-null    object\n",
      " 3   author       568 non-null    object\n",
      " 4   created_utc  568 non-null    int64 \n",
      "dtypes: int64(1), object(4)\n",
      "memory usage: 26.6+ KB\n"
     ]
    }
   ],
   "source": [
    "both_awakes.info()"
   ]
  },
  {
   "cell_type": "code",
   "execution_count": 29,
   "id": "f0f562ca-bda1-48e3-8f6c-a7a7fb682bf4",
   "metadata": {},
   "outputs": [],
   "source": [
    "both_awakes['subreddit'] = both_awakes['subreddit'].map({\n",
    "    'awakened': 0, 'SubSimulatorGPT2': 1})"
   ]
  },
  {
   "cell_type": "code",
   "execution_count": 30,
   "id": "a41e33cb-96cc-4189-84bf-f3a145642b3d",
   "metadata": {
    "collapsed": true,
    "jupyter": {
     "outputs_hidden": true
    },
    "tags": []
   },
   "outputs": [
    {
     "data": {
      "text/html": [
       "<div>\n",
       "<style scoped>\n",
       "    .dataframe tbody tr th:only-of-type {\n",
       "        vertical-align: middle;\n",
       "    }\n",
       "\n",
       "    .dataframe tbody tr th {\n",
       "        vertical-align: top;\n",
       "    }\n",
       "\n",
       "    .dataframe thead th {\n",
       "        text-align: right;\n",
       "    }\n",
       "</style>\n",
       "<table border=\"1\" class=\"dataframe\">\n",
       "  <thead>\n",
       "    <tr style=\"text-align: right;\">\n",
       "      <th></th>\n",
       "      <th>subreddit</th>\n",
       "      <th>title</th>\n",
       "      <th>selftext</th>\n",
       "      <th>author</th>\n",
       "      <th>created_utc</th>\n",
       "    </tr>\n",
       "  </thead>\n",
       "  <tbody>\n",
       "    <tr>\n",
       "      <th>300</th>\n",
       "      <td>1</td>\n",
       "      <td>Can you use the same mindset of meditation to be more creative?</td>\n",
       "      <td>I've been trying to be more creative the last couple months. I used to write very slowly and was...</td>\n",
       "      <td>awakenedGPT2Bot</td>\n",
       "      <td>1642512660</td>\n",
       "    </tr>\n",
       "    <tr>\n",
       "      <th>301</th>\n",
       "      <td>1</td>\n",
       "      <td>Love is...</td>\n",
       "      <td>...the only thing that is all that exists.\\n\\nThis is why love is the highest form of consciousn...</td>\n",
       "      <td>awakenedGPT2Bot</td>\n",
       "      <td>1642392049</td>\n",
       "    </tr>\n",
       "    <tr>\n",
       "      <th>302</th>\n",
       "      <td>1</td>\n",
       "      <td>What is it about the journey that is so wonderful?</td>\n",
       "      <td>I was reminded of the journey, and my own journey, through my life through this post.\\n\\nWhat is...</td>\n",
       "      <td>awakenedGPT2Bot</td>\n",
       "      <td>1642249857</td>\n",
       "    </tr>\n",
       "    <tr>\n",
       "      <th>303</th>\n",
       "      <td>1</td>\n",
       "      <td>\"You are you, your heart beat is your heart beat\"</td>\n",
       "      <td>It really is a great phrase.</td>\n",
       "      <td>awakenedGPT2Bot</td>\n",
       "      <td>1642210249</td>\n",
       "    </tr>\n",
       "    <tr>\n",
       "      <th>304</th>\n",
       "      <td>1</td>\n",
       "      <td>No longer bound by the physical world</td>\n",
       "      <td>I love you all. I love all of you. I love every moment of every day of every day of every day of...</td>\n",
       "      <td>awakenedGPT2Bot</td>\n",
       "      <td>1642167055</td>\n",
       "    </tr>\n",
       "    <tr>\n",
       "      <th>...</th>\n",
       "      <td>...</td>\n",
       "      <td>...</td>\n",
       "      <td>...</td>\n",
       "      <td>...</td>\n",
       "      <td>...</td>\n",
       "    </tr>\n",
       "    <tr>\n",
       "      <th>278</th>\n",
       "      <td>0</td>\n",
       "      <td>“No” has a narrow use here.</td>\n",
       "      <td>None of us *know*— therefore, we cannot, truthfully, say no. It may be “no” to us, but who are w...</td>\n",
       "      <td>ATPATPATP</td>\n",
       "      <td>1641821318</td>\n",
       "    </tr>\n",
       "    <tr>\n",
       "      <th>279</th>\n",
       "      <td>0</td>\n",
       "      <td>your moment of awakening</td>\n",
       "      <td>Can you guys describe your awakening?   \\nMine was after intense feeling of lonelines that kind ...</td>\n",
       "      <td>Reggiest</td>\n",
       "      <td>1641816449</td>\n",
       "    </tr>\n",
       "    <tr>\n",
       "      <th>280</th>\n",
       "      <td>0</td>\n",
       "      <td>I'm incredibly alone and when I have to be by myself after all other forms of trying to deal are...</td>\n",
       "      <td>I dont think I can heal. And I'm tired of not having what makes me whole.</td>\n",
       "      <td>boobsforbaboons</td>\n",
       "      <td>1641814138</td>\n",
       "    </tr>\n",
       "    <tr>\n",
       "      <th>281</th>\n",
       "      <td>0</td>\n",
       "      <td>101 Guide for recovering young adults…</td>\n",
       "      <td>\\n\\nPart One\\n\\n-\\n\\nThis is what makes you happy &amp;amp; wealthy...\\n\\nGiving love…\\n\\nBeing  lov...</td>\n",
       "      <td>LoveOracles</td>\n",
       "      <td>1641808455</td>\n",
       "    </tr>\n",
       "    <tr>\n",
       "      <th>282</th>\n",
       "      <td>0</td>\n",
       "      <td>The boiling pot metaphor</td>\n",
       "      <td>Imagine you’re looking inside a pot of boiling water. The water is not still because of the heat...</td>\n",
       "      <td>Different_County6867</td>\n",
       "      <td>1641804049</td>\n",
       "    </tr>\n",
       "  </tbody>\n",
       "</table>\n",
       "<p>568 rows × 5 columns</p>\n",
       "</div>"
      ],
      "text/plain": [
       "     subreddit  \\\n",
       "300          1   \n",
       "301          1   \n",
       "302          1   \n",
       "303          1   \n",
       "304          1   \n",
       "..         ...   \n",
       "278          0   \n",
       "279          0   \n",
       "280          0   \n",
       "281          0   \n",
       "282          0   \n",
       "\n",
       "                                                                                                   title  \\\n",
       "300                                      Can you use the same mindset of meditation to be more creative?   \n",
       "301                                                                                           Love is...   \n",
       "302                                                   What is it about the journey that is so wonderful?   \n",
       "303                                                    \"You are you, your heart beat is your heart beat\"   \n",
       "304                                                                No longer bound by the physical world   \n",
       "..                                                                                                   ...   \n",
       "278                                                                          “No” has a narrow use here.   \n",
       "279                                                                             your moment of awakening   \n",
       "280  I'm incredibly alone and when I have to be by myself after all other forms of trying to deal are...   \n",
       "281                                                               101 Guide for recovering young adults…   \n",
       "282                                                                             The boiling pot metaphor   \n",
       "\n",
       "                                                                                                selftext  \\\n",
       "300  I've been trying to be more creative the last couple months. I used to write very slowly and was...   \n",
       "301  ...the only thing that is all that exists.\\n\\nThis is why love is the highest form of consciousn...   \n",
       "302  I was reminded of the journey, and my own journey, through my life through this post.\\n\\nWhat is...   \n",
       "303                                                                         It really is a great phrase.   \n",
       "304  I love you all. I love all of you. I love every moment of every day of every day of every day of...   \n",
       "..                                                                                                   ...   \n",
       "278  None of us *know*— therefore, we cannot, truthfully, say no. It may be “no” to us, but who are w...   \n",
       "279  Can you guys describe your awakening?   \\nMine was after intense feeling of lonelines that kind ...   \n",
       "280                            I dont think I can heal. And I'm tired of not having what makes me whole.   \n",
       "281  \\n\\nPart One\\n\\n-\\n\\nThis is what makes you happy &amp; wealthy...\\n\\nGiving love…\\n\\nBeing  lov...   \n",
       "282  Imagine you’re looking inside a pot of boiling water. The water is not still because of the heat...   \n",
       "\n",
       "                   author  created_utc  \n",
       "300       awakenedGPT2Bot   1642512660  \n",
       "301       awakenedGPT2Bot   1642392049  \n",
       "302       awakenedGPT2Bot   1642249857  \n",
       "303       awakenedGPT2Bot   1642210249  \n",
       "304       awakenedGPT2Bot   1642167055  \n",
       "..                    ...          ...  \n",
       "278             ATPATPATP   1641821318  \n",
       "279              Reggiest   1641816449  \n",
       "280       boobsforbaboons   1641814138  \n",
       "281           LoveOracles   1641808455  \n",
       "282  Different_County6867   1641804049  \n",
       "\n",
       "[568 rows x 5 columns]"
      ]
     },
     "execution_count": 30,
     "metadata": {},
     "output_type": "execute_result"
    }
   ],
   "source": [
    "both_awakes"
   ]
  },
  {
   "cell_type": "code",
   "execution_count": 31,
   "id": "d61749ca-def4-421c-b43d-b37cc8417d80",
   "metadata": {},
   "outputs": [],
   "source": [
    "both_awakes['doc'] = both_awakes['title'] + \" \" + both_awakes['selftext']"
   ]
  },
  {
   "cell_type": "code",
   "execution_count": 32,
   "id": "8321957c-56d5-4648-b4b5-b1679fdee91a",
   "metadata": {
    "tags": []
   },
   "outputs": [
    {
     "data": {
      "text/html": [
       "<div>\n",
       "<style scoped>\n",
       "    .dataframe tbody tr th:only-of-type {\n",
       "        vertical-align: middle;\n",
       "    }\n",
       "\n",
       "    .dataframe tbody tr th {\n",
       "        vertical-align: top;\n",
       "    }\n",
       "\n",
       "    .dataframe thead th {\n",
       "        text-align: right;\n",
       "    }\n",
       "</style>\n",
       "<table border=\"1\" class=\"dataframe\">\n",
       "  <thead>\n",
       "    <tr style=\"text-align: right;\">\n",
       "      <th></th>\n",
       "      <th>subreddit</th>\n",
       "      <th>title</th>\n",
       "      <th>selftext</th>\n",
       "      <th>author</th>\n",
       "      <th>created_utc</th>\n",
       "      <th>doc</th>\n",
       "    </tr>\n",
       "  </thead>\n",
       "  <tbody>\n",
       "    <tr>\n",
       "      <th>300</th>\n",
       "      <td>1</td>\n",
       "      <td>Can you use the same mindset of meditation to be more creative?</td>\n",
       "      <td>I've been trying to be more creative the last couple months. I used to write very slowly and was...</td>\n",
       "      <td>awakenedGPT2Bot</td>\n",
       "      <td>1642512660</td>\n",
       "      <td>Can you use the same mindset of meditation to be more creative? I've been trying to be more crea...</td>\n",
       "    </tr>\n",
       "    <tr>\n",
       "      <th>301</th>\n",
       "      <td>1</td>\n",
       "      <td>Love is...</td>\n",
       "      <td>...the only thing that is all that exists.\\n\\nThis is why love is the highest form of consciousn...</td>\n",
       "      <td>awakenedGPT2Bot</td>\n",
       "      <td>1642392049</td>\n",
       "      <td>Love is... ...the only thing that is all that exists.\\n\\nThis is why love is the highest form of...</td>\n",
       "    </tr>\n",
       "    <tr>\n",
       "      <th>302</th>\n",
       "      <td>1</td>\n",
       "      <td>What is it about the journey that is so wonderful?</td>\n",
       "      <td>I was reminded of the journey, and my own journey, through my life through this post.\\n\\nWhat is...</td>\n",
       "      <td>awakenedGPT2Bot</td>\n",
       "      <td>1642249857</td>\n",
       "      <td>What is it about the journey that is so wonderful? I was reminded of the journey, and my own jou...</td>\n",
       "    </tr>\n",
       "  </tbody>\n",
       "</table>\n",
       "</div>"
      ],
      "text/plain": [
       "     subreddit  \\\n",
       "300          1   \n",
       "301          1   \n",
       "302          1   \n",
       "\n",
       "                                                               title  \\\n",
       "300  Can you use the same mindset of meditation to be more creative?   \n",
       "301                                                       Love is...   \n",
       "302               What is it about the journey that is so wonderful?   \n",
       "\n",
       "                                                                                                selftext  \\\n",
       "300  I've been trying to be more creative the last couple months. I used to write very slowly and was...   \n",
       "301  ...the only thing that is all that exists.\\n\\nThis is why love is the highest form of consciousn...   \n",
       "302  I was reminded of the journey, and my own journey, through my life through this post.\\n\\nWhat is...   \n",
       "\n",
       "              author  created_utc  \\\n",
       "300  awakenedGPT2Bot   1642512660   \n",
       "301  awakenedGPT2Bot   1642392049   \n",
       "302  awakenedGPT2Bot   1642249857   \n",
       "\n",
       "                                                                                                     doc  \n",
       "300  Can you use the same mindset of meditation to be more creative? I've been trying to be more crea...  \n",
       "301  Love is... ...the only thing that is all that exists.\\n\\nThis is why love is the highest form of...  \n",
       "302  What is it about the journey that is so wonderful? I was reminded of the journey, and my own jou...  "
      ]
     },
     "execution_count": 32,
     "metadata": {},
     "output_type": "execute_result"
    }
   ],
   "source": [
    "both_awakes.head(3)"
   ]
  },
  {
   "cell_type": "code",
   "execution_count": 33,
   "id": "9feb4117-ef9e-45f0-90b3-436c236c29fa",
   "metadata": {
    "tags": []
   },
   "outputs": [],
   "source": [
    "# Creating a \"Post Length\" column for comparisons\n",
    "both_awakes['post_length'] = both_awakes['doc'].map(len)"
   ]
  },
  {
   "cell_type": "code",
   "execution_count": 35,
   "id": "f2a073fd-9a5e-4c3a-91a7-373784748d1c",
   "metadata": {
    "tags": []
   },
   "outputs": [
    {
     "data": {
      "text/html": [
       "<div>\n",
       "<style scoped>\n",
       "    .dataframe tbody tr th:only-of-type {\n",
       "        vertical-align: middle;\n",
       "    }\n",
       "\n",
       "    .dataframe tbody tr th {\n",
       "        vertical-align: top;\n",
       "    }\n",
       "\n",
       "    .dataframe thead th {\n",
       "        text-align: right;\n",
       "    }\n",
       "</style>\n",
       "<table border=\"1\" class=\"dataframe\">\n",
       "  <thead>\n",
       "    <tr style=\"text-align: right;\">\n",
       "      <th></th>\n",
       "      <th>subreddit</th>\n",
       "      <th>title</th>\n",
       "      <th>selftext</th>\n",
       "      <th>author</th>\n",
       "      <th>created_utc</th>\n",
       "      <th>doc</th>\n",
       "      <th>post_length</th>\n",
       "    </tr>\n",
       "  </thead>\n",
       "  <tbody>\n",
       "    <tr>\n",
       "      <th>300</th>\n",
       "      <td>1</td>\n",
       "      <td>Can you use the same mindset of meditation to be more creative?</td>\n",
       "      <td>I've been trying to be more creative the last couple months. I used to write very slowly and was...</td>\n",
       "      <td>awakenedGPT2Bot</td>\n",
       "      <td>1642512660</td>\n",
       "      <td>Can you use the same mindset of meditation to be more creative? I've been trying to be more crea...</td>\n",
       "      <td>854</td>\n",
       "    </tr>\n",
       "    <tr>\n",
       "      <th>301</th>\n",
       "      <td>1</td>\n",
       "      <td>Love is...</td>\n",
       "      <td>...the only thing that is all that exists.\\n\\nThis is why love is the highest form of consciousn...</td>\n",
       "      <td>awakenedGPT2Bot</td>\n",
       "      <td>1642392049</td>\n",
       "      <td>Love is... ...the only thing that is all that exists.\\n\\nThis is why love is the highest form of...</td>\n",
       "      <td>144</td>\n",
       "    </tr>\n",
       "    <tr>\n",
       "      <th>302</th>\n",
       "      <td>1</td>\n",
       "      <td>What is it about the journey that is so wonderful?</td>\n",
       "      <td>I was reminded of the journey, and my own journey, through my life through this post.\\n\\nWhat is...</td>\n",
       "      <td>awakenedGPT2Bot</td>\n",
       "      <td>1642249857</td>\n",
       "      <td>What is it about the journey that is so wonderful? I was reminded of the journey, and my own jou...</td>\n",
       "      <td>754</td>\n",
       "    </tr>\n",
       "    <tr>\n",
       "      <th>303</th>\n",
       "      <td>1</td>\n",
       "      <td>\"You are you, your heart beat is your heart beat\"</td>\n",
       "      <td>It really is a great phrase.</td>\n",
       "      <td>awakenedGPT2Bot</td>\n",
       "      <td>1642210249</td>\n",
       "      <td>\"You are you, your heart beat is your heart beat\" It really is a great phrase.</td>\n",
       "      <td>78</td>\n",
       "    </tr>\n",
       "    <tr>\n",
       "      <th>304</th>\n",
       "      <td>1</td>\n",
       "      <td>No longer bound by the physical world</td>\n",
       "      <td>I love you all. I love all of you. I love every moment of every day of every day of every day of...</td>\n",
       "      <td>awakenedGPT2Bot</td>\n",
       "      <td>1642167055</td>\n",
       "      <td>No longer bound by the physical world I love you all. I love all of you. I love every moment of ...</td>\n",
       "      <td>324</td>\n",
       "    </tr>\n",
       "    <tr>\n",
       "      <th>...</th>\n",
       "      <td>...</td>\n",
       "      <td>...</td>\n",
       "      <td>...</td>\n",
       "      <td>...</td>\n",
       "      <td>...</td>\n",
       "      <td>...</td>\n",
       "      <td>...</td>\n",
       "    </tr>\n",
       "    <tr>\n",
       "      <th>278</th>\n",
       "      <td>0</td>\n",
       "      <td>“No” has a narrow use here.</td>\n",
       "      <td>None of us *know*— therefore, we cannot, truthfully, say no. It may be “no” to us, but who are w...</td>\n",
       "      <td>ATPATPATP</td>\n",
       "      <td>1641821318</td>\n",
       "      <td>“No” has a narrow use here. None of us *know*— therefore, we cannot, truthfully, say no. It may ...</td>\n",
       "      <td>325</td>\n",
       "    </tr>\n",
       "    <tr>\n",
       "      <th>279</th>\n",
       "      <td>0</td>\n",
       "      <td>your moment of awakening</td>\n",
       "      <td>Can you guys describe your awakening?   \\nMine was after intense feeling of lonelines that kind ...</td>\n",
       "      <td>Reggiest</td>\n",
       "      <td>1641816449</td>\n",
       "      <td>your moment of awakening Can you guys describe your awakening?   \\nMine was after intense feelin...</td>\n",
       "      <td>301</td>\n",
       "    </tr>\n",
       "    <tr>\n",
       "      <th>280</th>\n",
       "      <td>0</td>\n",
       "      <td>I'm incredibly alone and when I have to be by myself after all other forms of trying to deal are...</td>\n",
       "      <td>I dont think I can heal. And I'm tired of not having what makes me whole.</td>\n",
       "      <td>boobsforbaboons</td>\n",
       "      <td>1641814138</td>\n",
       "      <td>I'm incredibly alone and when I have to be by myself after all other forms of trying to deal are...</td>\n",
       "      <td>194</td>\n",
       "    </tr>\n",
       "    <tr>\n",
       "      <th>281</th>\n",
       "      <td>0</td>\n",
       "      <td>101 Guide for recovering young adults…</td>\n",
       "      <td>\\n\\nPart One\\n\\n-\\n\\nThis is what makes you happy &amp;amp; wealthy...\\n\\nGiving love…\\n\\nBeing  lov...</td>\n",
       "      <td>LoveOracles</td>\n",
       "      <td>1641808455</td>\n",
       "      <td>101 Guide for recovering young adults… \\n\\nPart One\\n\\n-\\n\\nThis is what makes you happy &amp;amp; w...</td>\n",
       "      <td>31018</td>\n",
       "    </tr>\n",
       "    <tr>\n",
       "      <th>282</th>\n",
       "      <td>0</td>\n",
       "      <td>The boiling pot metaphor</td>\n",
       "      <td>Imagine you’re looking inside a pot of boiling water. The water is not still because of the heat...</td>\n",
       "      <td>Different_County6867</td>\n",
       "      <td>1641804049</td>\n",
       "      <td>The boiling pot metaphor Imagine you’re looking inside a pot of boiling water. The water is not ...</td>\n",
       "      <td>729</td>\n",
       "    </tr>\n",
       "  </tbody>\n",
       "</table>\n",
       "<p>568 rows × 7 columns</p>\n",
       "</div>"
      ],
      "text/plain": [
       "     subreddit  \\\n",
       "300          1   \n",
       "301          1   \n",
       "302          1   \n",
       "303          1   \n",
       "304          1   \n",
       "..         ...   \n",
       "278          0   \n",
       "279          0   \n",
       "280          0   \n",
       "281          0   \n",
       "282          0   \n",
       "\n",
       "                                                                                                   title  \\\n",
       "300                                      Can you use the same mindset of meditation to be more creative?   \n",
       "301                                                                                           Love is...   \n",
       "302                                                   What is it about the journey that is so wonderful?   \n",
       "303                                                    \"You are you, your heart beat is your heart beat\"   \n",
       "304                                                                No longer bound by the physical world   \n",
       "..                                                                                                   ...   \n",
       "278                                                                          “No” has a narrow use here.   \n",
       "279                                                                             your moment of awakening   \n",
       "280  I'm incredibly alone and when I have to be by myself after all other forms of trying to deal are...   \n",
       "281                                                               101 Guide for recovering young adults…   \n",
       "282                                                                             The boiling pot metaphor   \n",
       "\n",
       "                                                                                                selftext  \\\n",
       "300  I've been trying to be more creative the last couple months. I used to write very slowly and was...   \n",
       "301  ...the only thing that is all that exists.\\n\\nThis is why love is the highest form of consciousn...   \n",
       "302  I was reminded of the journey, and my own journey, through my life through this post.\\n\\nWhat is...   \n",
       "303                                                                         It really is a great phrase.   \n",
       "304  I love you all. I love all of you. I love every moment of every day of every day of every day of...   \n",
       "..                                                                                                   ...   \n",
       "278  None of us *know*— therefore, we cannot, truthfully, say no. It may be “no” to us, but who are w...   \n",
       "279  Can you guys describe your awakening?   \\nMine was after intense feeling of lonelines that kind ...   \n",
       "280                            I dont think I can heal. And I'm tired of not having what makes me whole.   \n",
       "281  \\n\\nPart One\\n\\n-\\n\\nThis is what makes you happy &amp; wealthy...\\n\\nGiving love…\\n\\nBeing  lov...   \n",
       "282  Imagine you’re looking inside a pot of boiling water. The water is not still because of the heat...   \n",
       "\n",
       "                   author  created_utc  \\\n",
       "300       awakenedGPT2Bot   1642512660   \n",
       "301       awakenedGPT2Bot   1642392049   \n",
       "302       awakenedGPT2Bot   1642249857   \n",
       "303       awakenedGPT2Bot   1642210249   \n",
       "304       awakenedGPT2Bot   1642167055   \n",
       "..                    ...          ...   \n",
       "278             ATPATPATP   1641821318   \n",
       "279              Reggiest   1641816449   \n",
       "280       boobsforbaboons   1641814138   \n",
       "281           LoveOracles   1641808455   \n",
       "282  Different_County6867   1641804049   \n",
       "\n",
       "                                                                                                     doc  \\\n",
       "300  Can you use the same mindset of meditation to be more creative? I've been trying to be more crea...   \n",
       "301  Love is... ...the only thing that is all that exists.\\n\\nThis is why love is the highest form of...   \n",
       "302  What is it about the journey that is so wonderful? I was reminded of the journey, and my own jou...   \n",
       "303                       \"You are you, your heart beat is your heart beat\" It really is a great phrase.   \n",
       "304  No longer bound by the physical world I love you all. I love all of you. I love every moment of ...   \n",
       "..                                                                                                   ...   \n",
       "278  “No” has a narrow use here. None of us *know*— therefore, we cannot, truthfully, say no. It may ...   \n",
       "279  your moment of awakening Can you guys describe your awakening?   \\nMine was after intense feelin...   \n",
       "280  I'm incredibly alone and when I have to be by myself after all other forms of trying to deal are...   \n",
       "281  101 Guide for recovering young adults… \\n\\nPart One\\n\\n-\\n\\nThis is what makes you happy &amp; w...   \n",
       "282  The boiling pot metaphor Imagine you’re looking inside a pot of boiling water. The water is not ...   \n",
       "\n",
       "     post_length  \n",
       "300          854  \n",
       "301          144  \n",
       "302          754  \n",
       "303           78  \n",
       "304          324  \n",
       "..           ...  \n",
       "278          325  \n",
       "279          301  \n",
       "280          194  \n",
       "281        31018  \n",
       "282          729  \n",
       "\n",
       "[568 rows x 7 columns]"
      ]
     },
     "execution_count": 35,
     "metadata": {},
     "output_type": "execute_result"
    }
   ],
   "source": [
    "both_awakes"
   ]
  },
  {
   "cell_type": "code",
   "execution_count": 36,
   "id": "b5d41842-2fa1-47a7-9ce2-404120f8f65d",
   "metadata": {},
   "outputs": [],
   "source": [
    "both_awakes.to_csv('../data/both_awakes.csv')"
   ]
  },
  {
   "cell_type": "markdown",
   "id": "768af552-0e70-4400-9749-3d7a13fc3f11",
   "metadata": {
    "tags": []
   },
   "source": [
    "## CountVectorizor w/ some changes to params: ##\n",
    "**min_df=2, max_df=0.98**"
   ]
  },
  {
   "cell_type": "markdown",
   "id": "ce698951-f33c-4ea6-9914-d0ab031dbfa3",
   "metadata": {},
   "source": [
    "**Got some code for adding stop words to the 'english' list**\n",
    "https://stackoverflow.com/questions/24386489/adding-words-to-scikit-learns-countvectorizers-stop-list"
   ]
  },
  {
   "cell_type": "code",
   "execution_count": null,
   "id": "55168d3a-0c85-4fdc-9302-2f29e156538d",
   "metadata": {},
   "outputs": [],
   "source": [
    "my_added_stop_words = ['don','ve','like','just']\n",
    "stop_words=text.ENGLISH_STOP_WORDS.union(my_added_stop_words)"
   ]
  },
  {
   "cell_type": "code",
   "execution_count": null,
   "id": "97dea020-6bc1-432e-b8b0-8d89eb721973",
   "metadata": {},
   "outputs": [],
   "source": [
    "# Instantiate a CountVectorizer with the \n",
    "#stop_words='english + my words', min_df=2, max_df=0.98 hyperparameters & default tokens\n",
    "cvec_cascon = CountVectorizer(stop_words=stop_words, min_df=2, max_df=0.98)"
   ]
  },
  {
   "cell_type": "code",
   "execution_count": null,
   "id": "5618d249-6c41-4c3d-a0d0-9fd76c8347c6",
   "metadata": {},
   "outputs": [],
   "source": [
    "cascon_df = no_blanks[(no_blanks['subreddit']==0)]\n",
    "cascon_doc = cascon_df['doc']"
   ]
  },
  {
   "cell_type": "code",
   "execution_count": null,
   "id": "71b5470e-22c7-4371-abfa-3f9a87b45ab1",
   "metadata": {},
   "outputs": [],
   "source": [
    "# Fit the vectorizer on the corpus.\n",
    "cvec_cascon.fit(cascon_doc)"
   ]
  },
  {
   "cell_type": "code",
   "execution_count": 238,
   "id": "7611a8c6-4d2a-4fd8-ad5f-0b517e12cba5",
   "metadata": {},
   "outputs": [
    {
     "data": {
      "text/plain": [
       "8244"
      ]
     },
     "execution_count": 238,
     "metadata": {},
     "output_type": "execute_result"
    }
   ],
   "source": [
    "# 8244 words in CasCon\n",
    "len(cvec_cascon.get_feature_names())"
   ]
  },
  {
   "cell_type": "code",
   "execution_count": null,
   "id": "40eac952-3965-4314-9a1f-6606759b816c",
   "metadata": {},
   "outputs": [],
   "source": [
    "# Transforming the data to a sparse array for analysis\n",
    "cascon_trans = cvec_cascon.transform(cascon_doc)"
   ]
  },
  {
   "cell_type": "code",
   "execution_count": null,
   "id": "c4b270bb-83f3-4d95-a337-52efc9e7e742",
   "metadata": {},
   "outputs": [],
   "source": [
    "# convert training data to dataframe (densifying columns again to view)\n",
    "cascon_trans_df = pd.DataFrame(cascon_trans.todense(), \n",
    "                               columns=cvec_cascon.get_feature_names())"
   ]
  },
  {
   "cell_type": "code",
   "execution_count": 234,
   "id": "200c12dc-0f3d-47ea-9a9b-45f71383d4ac",
   "metadata": {},
   "outputs": [
    {
     "data": {
      "image/png": "[encoded data removed]",
      "text/plain": [
       "<Figure size 432x288 with 1 Axes>"
      ]
     },
     "metadata": {
      "needs_background": "light"
     },
     "output_type": "display_data"
    }
   ],
   "source": [
    "# plot top occuring words in Casual Conversations\n",
    "cascon_trans_df.sum().sort_values().tail(10).plot(kind='barh');"
   ]
  },
  {
   "cell_type": "code",
   "execution_count": null,
   "id": "8d7e7ab9-0097-42cd-bf77-b1ab0be21c82",
   "metadata": {},
   "outputs": [],
   "source": [
    "cvec_subsim = CountVectorizer(stop_words=stop_words, min_df=2, max_df=0.98)"
   ]
  },
  {
   "cell_type": "code",
   "execution_count": null,
   "id": "373b8c2f-f36f-441a-9a38-c8fb867592f0",
   "metadata": {},
   "outputs": [],
   "source": [
    "subsim_df = no_blanks[(no_blanks['subreddit']==1)]\n",
    "subsim_doc = subsim_df['doc']"
   ]
  },
  {
   "cell_type": "code",
   "execution_count": null,
   "id": "a6c5e634-82a3-4620-b8e6-44df823c7649",
   "metadata": {},
   "outputs": [],
   "source": [
    "cvec_subsim.fit(subsim_doc)"
   ]
  },
  {
   "cell_type": "code",
   "execution_count": 237,
   "id": "4af8c2ac-57bb-4584-92b3-f28f32961274",
   "metadata": {},
   "outputs": [
    {
     "data": {
      "text/plain": [
       "8630"
      ]
     },
     "execution_count": 237,
     "metadata": {},
     "output_type": "execute_result"
    }
   ],
   "source": [
    "#8630 words\n",
    "len(cvec_subsim.get_feature_names())"
   ]
  },
  {
   "cell_type": "code",
   "execution_count": null,
   "id": "6f285639-3b9c-4e37-9f07-a1f6efbc04ec",
   "metadata": {},
   "outputs": [],
   "source": [
    "# Transforming the data to a sparse array for analysis\n",
    "subsim_trans = cvec_subsim.transform(subsim_doc)"
   ]
  },
  {
   "cell_type": "code",
   "execution_count": null,
   "id": "9ea345b1-38da-4556-97d9-939bf31286e6",
   "metadata": {},
   "outputs": [],
   "source": [
    "# convert training data to dataframe (densifying columns again to view)\n",
    "subsim_trans_df = pd.DataFrame(subsim_trans.todense(), \n",
    "                               columns=cvec_subsim.get_feature_names())"
   ]
  },
  {
   "cell_type": "code",
   "execution_count": 235,
   "id": "5d043693-823d-4336-a4c1-8e36e5411265",
   "metadata": {},
   "outputs": [
    {
     "data": {
      "image/png": "[encoded data removed]",
      "text/plain": [
       "<Figure size 432x288 with 1 Axes>"
      ]
     },
     "metadata": {
      "needs_background": "light"
     },
     "output_type": "display_data"
    }
   ],
   "source": [
    "# plot top occuring words in Casual Conversations\n",
    "subsim_trans_df.sum().sort_values().tail(10).plot(kind='barh');"
   ]
  },
  {
   "cell_type": "code",
   "execution_count": null,
   "id": "ac714b30-8fe7-4a5c-b63d-13b5078c3510",
   "metadata": {},
   "outputs": [],
   "source": []
  }
 ],
 "metadata": {
  "kernelspec": {
   "display_name": "Python 3 (ipykernel)",
   "language": "python",
   "name": "python3"
  },
  "language_info": {
   "codemirror_mode": {
    "name": "ipython",
    "version": 3
   },
   "file_extension": ".py",
   "mimetype": "text/x-python",
   "name": "python",
   "nbconvert_exporter": "python",
   "pygments_lexer": "ipython3",
   "version": "3.9.7"
  }
 },
 "nbformat": 4,
 "nbformat_minor": 5
}
