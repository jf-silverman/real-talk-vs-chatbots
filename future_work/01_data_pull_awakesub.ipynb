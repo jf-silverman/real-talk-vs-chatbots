{
 "cells": [
  {
   "cell_type": "markdown",
   "id": "e1a43001-7a70-4e73-b14c-f3e212590a91",
   "metadata": {},
   "source": [
    "## Project 3 ##   \n",
    "**Step 01: Data Pull From Reddit**"
   ]
  },
  {
   "cell_type": "code",
   "execution_count": 4,
   "id": "5f060568-8281-4bc2-8b10-bee0f3eba44b",
   "metadata": {},
   "outputs": [],
   "source": [
    "import numpy as np\n",
    "import pandas as pd\n",
    "import requests\n",
    "import time\n",
    "import random\n",
    "#from bs4 import BeautifulSoup\n"
   ]
  },
  {
   "cell_type": "code",
   "execution_count": 5,
   "id": "bce46c81-46a7-462d-a7f0-de7ce8081017",
   "metadata": {},
   "outputs": [],
   "source": [
    "# THE FOR LOOP BELOW WAS MADE WITH HELP FROM KEVIN GATES AND TANYA SHAPIRO"
   ]
  },
  {
   "cell_type": "code",
   "execution_count": 6,
   "id": "aeb06df4-2f33-4377-8edc-9bf5fb5683f5",
   "metadata": {},
   "outputs": [],
   "source": [
    "awakened='https://api.pushshift.io/reddit/search/submission?subreddit=awakened'\n",
    "casualconversation='https://api.pushshift.io/reddit/search/submission?subreddit=casualconversation'\n",
    "\n",
    "def subreddit_pull(url, subreddit, n_posts):\n",
    "    #setting num of iterations and creating blank posts list\n",
    "    x= n_posts/100\n",
    "    posts= []\n",
    "    params={'subreddit': subreddit,'size': 100,}\n",
    "    #creating loop\n",
    "    while x>0:\n",
    "\n",
    "        res= requests.get(url, params)\n",
    "        \n",
    "        if res.status_code != 200:\n",
    "            print(res.status_code)\n",
    "        else:\n",
    "            pass\n",
    "        \n",
    "        #adding posts to post list\n",
    "        posts+=res.json()['data']\n",
    "        \n",
    "        #grabbing earliest post and setting to 'before' param\n",
    "        earliest_post = res.json()['data'][-1]['created_utc']\n",
    "        params['before']= earliest_post\n",
    "        #reducing count and dictating sleep time between requests\n",
    "        x= x-1\n",
    "        time.sleep(random.randint(1, 3))\n",
    "    return pd.DataFrame(posts)[['subreddit', 'title', 'selftext','author', 'created_utc']]       \n",
    " \n"
   ]
  },
  {
   "cell_type": "code",
   "execution_count": 42,
   "id": "d841117f-152e-4114-bf60-056fa5f43efa",
   "metadata": {
    "tags": []
   },
   "outputs": [],
   "source": [
    "sub_awakened = subreddit_pull(awakened,'awakened',600)"
   ]
  },
  {
   "cell_type": "code",
   "execution_count": 43,
   "id": "dc05efe7-33ce-4cb4-babd-b013b924a82a",
   "metadata": {},
   "outputs": [],
   "source": [
    "sub_awakened.drop_duplicates(inplace=True)"
   ]
  },
  {
   "cell_type": "code",
   "execution_count": 44,
   "id": "90f22d7a-6bf7-47c4-91ff-ad086aff61b8",
   "metadata": {
    "tags": []
   },
   "outputs": [
    {
     "name": "stdout",
     "output_type": "stream",
     "text": [
      "<class 'pandas.core.frame.DataFrame'>\n",
      "Int64Index: 600 entries, 0 to 599\n",
      "Data columns (total 5 columns):\n",
      " #   Column       Non-Null Count  Dtype \n",
      "---  ------       --------------  ----- \n",
      " 0   subreddit    600 non-null    object\n",
      " 1   title        600 non-null    object\n",
      " 2   selftext     599 non-null    object\n",
      " 3   author       600 non-null    object\n",
      " 4   created_utc  600 non-null    int64 \n",
      "dtypes: int64(1), object(4)\n",
      "memory usage: 28.1+ KB\n"
     ]
    }
   ],
   "source": [
    "sub_awakened.info()"
   ]
  },
  {
   "cell_type": "code",
   "execution_count": 45,
   "id": "74b9f0c2-31ec-455b-8802-be6e86e92f7f",
   "metadata": {},
   "outputs": [],
   "source": [
    "sub_awakened = sub_awakened[\n",
    "    (sub_awakened['selftext']!='[removed]') &\n",
    "    (sub_awakened['selftext']!='')]"
   ]
  },
  {
   "cell_type": "code",
   "execution_count": 49,
   "id": "f0168497-55e3-4a52-b0fb-5c4a776dd760",
   "metadata": {},
   "outputs": [],
   "source": [
    "sub_awakened_clean = sub_awakened.sort_values(by='created_utc', ascending=False)[:283]"
   ]
  },
  {
   "cell_type": "code",
   "execution_count": 50,
   "id": "23e751d7-1e58-484a-8829-6b0113c13f1b",
   "metadata": {},
   "outputs": [],
   "source": [
    "sub_awakened_clean.to_csv('../data/sub_awakened_clean.csv')"
   ]
  },
  {
   "cell_type": "code",
   "execution_count": null,
   "id": "a5d9b7a5-88ad-4666-b56d-9c55f8da336b",
   "metadata": {},
   "outputs": [],
   "source": []
  }
 ],
 "metadata": {
  "kernelspec": {
   "display_name": "Python 3 (ipykernel)",
   "language": "python",
   "name": "python3"
  },
  "language_info": {
   "codemirror_mode": {
    "name": "ipython",
    "version": 3
   },
   "file_extension": ".py",
   "mimetype": "text/x-python",
   "name": "python",
   "nbconvert_exporter": "python",
   "pygments_lexer": "ipython3",
   "version": "3.9.7"
  }
 },
 "nbformat": 4,
 "nbformat_minor": 5
}
