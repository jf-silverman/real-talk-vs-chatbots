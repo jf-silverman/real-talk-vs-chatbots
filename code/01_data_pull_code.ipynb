{
 "cells": [
  {
   "cell_type": "markdown",
   "id": "e1a43001-7a70-4e73-b14c-f3e212590a91",
   "metadata": {},
   "source": [
    "## Project 3 ##   \n",
    "**Step 01: Data Pull From Reddit**"
   ]
  },
  {
   "cell_type": "code",
   "execution_count": 2,
   "id": "5f060568-8281-4bc2-8b10-bee0f3eba44b",
   "metadata": {},
   "outputs": [],
   "source": [
    "import numpy as np\n",
    "import pandas as pd\n",
    "import requests\n",
    "import time\n",
    "import random\n",
    "#from bs4 import BeautifulSoup\n"
   ]
  },
  {
   "cell_type": "code",
   "execution_count": 1,
   "id": "bce46c81-46a7-462d-a7f0-de7ce8081017",
   "metadata": {},
   "outputs": [],
   "source": [
    "# THE FOR LOOP BELOW WAS MADE WITH HELP FROM KEVIN GATES AND TANYA SHAPIRO"
   ]
  },
  {
   "cell_type": "code",
   "execution_count": 3,
   "id": "aeb06df4-2f33-4377-8edc-9bf5fb5683f5",
   "metadata": {},
   "outputs": [],
   "source": [
    "subsimulatorgpt2='https://api.pushshift.io/reddit/search/submission?subreddit=subsimulatorgpt2'\n",
    "casualconversation='https://api.pushshift.io/reddit/search/submission?subreddit=casualconversation'\n",
    "\n",
    "def subreddit_pull(url, subreddit, n_posts):\n",
    "    #setting num of iterations and creating blank posts list\n",
    "    x= n_posts/100\n",
    "    posts= []\n",
    "    params={'subreddit': subreddit,'size': 100,}\n",
    "    #creating loop\n",
    "    while x>0:\n",
    "\n",
    "        res= requests.get(url, params)\n",
    "        \n",
    "        if res.status_code != 200:\n",
    "            print(res.status_code)\n",
    "        else:\n",
    "            pass\n",
    "        \n",
    "        #adding posts to post list\n",
    "        posts+=res.json()['data']\n",
    "        \n",
    "        #grabbing earliest post and setting to 'before' param\n",
    "        earliest_post = res.json()['data'][-1]['created_utc']\n",
    "        params['before']= earliest_post\n",
    "        #reducing count and dictating sleep time between requests\n",
    "        x= x-1\n",
    "        time.sleep(random.randint(1, 3))\n",
    "    return pd.DataFrame(posts)[['subreddit', 'title', 'selftext','author', 'created_utc']]       \n",
    " \n"
   ]
  },
  {
   "cell_type": "code",
   "execution_count": 23,
   "id": "d841117f-152e-4114-bf60-056fa5f43efa",
   "metadata": {
    "tags": []
   },
   "outputs": [],
   "source": [
    "subsim12k_v6 = subreddit_pull(subsimulatorgpt2,'subsimulatorgpt2',12000)"
   ]
  },
  {
   "cell_type": "code",
   "execution_count": 26,
   "id": "dc05efe7-33ce-4cb4-babd-b013b924a82a",
   "metadata": {},
   "outputs": [],
   "source": [
    "subsim12k_v6.drop_duplicates(inplace=True)"
   ]
  },
  {
   "cell_type": "code",
   "execution_count": 27,
   "id": "90f22d7a-6bf7-47c4-91ff-ad086aff61b8",
   "metadata": {
    "tags": []
   },
   "outputs": [
    {
     "name": "stdout",
     "output_type": "stream",
     "text": [
      "<class 'pandas.core.frame.DataFrame'>\n",
      "Int64Index: 12000 entries, 0 to 11999\n",
      "Data columns (total 5 columns):\n",
      " #   Column       Non-Null Count  Dtype \n",
      "---  ------       --------------  ----- \n",
      " 0   subreddit    12000 non-null  object\n",
      " 1   title        12000 non-null  object\n",
      " 2   selftext     12000 non-null  object\n",
      " 3   author       12000 non-null  object\n",
      " 4   created_utc  12000 non-null  int64 \n",
      "dtypes: int64(1), object(4)\n",
      "memory usage: 562.5+ KB\n"
     ]
    }
   ],
   "source": [
    "subsim12k_v6.info()"
   ]
  },
  {
   "cell_type": "code",
   "execution_count": 29,
   "id": "23e751d7-1e58-484a-8829-6b0113c13f1b",
   "metadata": {},
   "outputs": [],
   "source": [
    "subsim12k_v6.to_csv('../data/subsim12k_v6.csv')"
   ]
  },
  {
   "cell_type": "code",
   "execution_count": 4,
   "id": "e30c1907-ac40-4715-9607-d47079d9657f",
   "metadata": {
    "tags": []
   },
   "outputs": [],
   "source": [
    "cascon5k_v5 = subreddit_pull(casualconversation,'casualconversation',5000)"
   ]
  },
  {
   "cell_type": "code",
   "execution_count": 7,
   "id": "aeff1be5-e30e-402a-9872-89d703416a10",
   "metadata": {
    "tags": []
   },
   "outputs": [
    {
     "name": "stdout",
     "output_type": "stream",
     "text": [
      "<class 'pandas.core.frame.DataFrame'>\n",
      "Int64Index: 4992 entries, 0 to 4993\n",
      "Data columns (total 5 columns):\n",
      " #   Column       Non-Null Count  Dtype \n",
      "---  ------       --------------  ----- \n",
      " 0   subreddit    4992 non-null   object\n",
      " 1   title        4992 non-null   object\n",
      " 2   selftext     4979 non-null   object\n",
      " 3   author       4992 non-null   object\n",
      " 4   created_utc  4992 non-null   int64 \n",
      "dtypes: int64(1), object(4)\n",
      "memory usage: 234.0+ KB\n"
     ]
    }
   ],
   "source": [
    "cascon5k_v5.info()"
   ]
  },
  {
   "cell_type": "code",
   "execution_count": 6,
   "id": "f94ef3e9-bc2c-43d7-a5a1-4be68d3616a2",
   "metadata": {},
   "outputs": [],
   "source": [
    "cascon5k_v5.drop_duplicates(inplace=True)"
   ]
  },
  {
   "cell_type": "code",
   "execution_count": 8,
   "id": "70bbe67d-7761-4e7f-a749-3146e00c6367",
   "metadata": {},
   "outputs": [],
   "source": [
    "cascon5k_v5.to_csv('../data/cascon5k_v5.csv')"
   ]
  }
 ],
 "metadata": {
  "kernelspec": {
   "display_name": "Python 3 (ipykernel)",
   "language": "python",
   "name": "python3"
  },
  "language_info": {
   "codemirror_mode": {
    "name": "ipython",
    "version": 3
   },
   "file_extension": ".py",
   "mimetype": "text/x-python",
   "name": "python",
   "nbconvert_exporter": "python",
   "pygments_lexer": "ipython3",
   "version": "3.9.7"
  }
 },
 "nbformat": 4,
 "nbformat_minor": 5
}
