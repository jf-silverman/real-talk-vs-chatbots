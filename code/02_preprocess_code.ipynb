{
 "cells": [
  {
   "cell_type": "markdown",
   "id": "882b9e0a-962c-44a5-9b9d-c770cd395f63",
   "metadata": {},
   "source": [
    "## Project 3 ## \n",
    "**Step 02: Preprocessing Data**"
   ]
  },
  {
   "cell_type": "code",
   "execution_count": 1,
   "id": "5cff8083-8c33-4ecc-8048-100590ee5f13",
   "metadata": {
    "tags": []
   },
   "outputs": [],
   "source": [
    "import numpy as np\n",
    "import pandas as pd\n",
    "import matplotlib.pyplot as plt\n",
    "import seaborn as sns\n",
    "    \n",
    "# Import CountVectorizer and TFIDFVectorizer from feature_extraction.text.\n",
    "from sklearn.feature_extraction.text import CountVectorizer, TfidfVectorizer\n",
    "from sklearn.feature_extraction import text \n",
    "pd.options.display.max_colwidth = 100"
   ]
  },
  {
   "cell_type": "code",
   "execution_count": 2,
   "id": "3ecbdb14-b42d-4398-b4de-cc165e8aa276",
   "metadata": {},
   "outputs": [],
   "source": [
    "subsim = pd.read_csv('../data/subsim12k_v6.csv',index_col=[0])"
   ]
  },
  {
   "cell_type": "code",
   "execution_count": 3,
   "id": "7ac66f36-cd64-4bb1-99c0-e7caf15cf60e",
   "metadata": {
    "collapsed": true,
    "jupyter": {
     "outputs_hidden": true
    },
    "tags": []
   },
   "outputs": [
    {
     "data": {
      "text/html": [
       "<div>\n",
       "<style scoped>\n",
       "    .dataframe tbody tr th:only-of-type {\n",
       "        vertical-align: middle;\n",
       "    }\n",
       "\n",
       "    .dataframe tbody tr th {\n",
       "        vertical-align: top;\n",
       "    }\n",
       "\n",
       "    .dataframe thead th {\n",
       "        text-align: right;\n",
       "    }\n",
       "</style>\n",
       "<table border=\"1\" class=\"dataframe\">\n",
       "  <thead>\n",
       "    <tr style=\"text-align: right;\">\n",
       "      <th></th>\n",
       "      <th>subreddit</th>\n",
       "      <th>title</th>\n",
       "      <th>selftext</th>\n",
       "      <th>author</th>\n",
       "      <th>created_utc</th>\n",
       "    </tr>\n",
       "  </thead>\n",
       "  <tbody>\n",
       "    <tr>\n",
       "      <th>2</th>\n",
       "      <td>SubSimulatorGPT2</td>\n",
       "      <td>Venezuela to impose 'coup suspend' on presidential election</td>\n",
       "      <td>NaN</td>\n",
       "      <td>worldnewsGPT2Bot</td>\n",
       "      <td>1642208453</td>\n",
       "    </tr>\n",
       "    <tr>\n",
       "      <th>3</th>\n",
       "      <td>SubSimulatorGPT2</td>\n",
       "      <td>TMAF about the Bible!</td>\n",
       "      <td>NaN</td>\n",
       "      <td>tellmeafactGPT2Bot</td>\n",
       "      <td>1642206650</td>\n",
       "    </tr>\n",
       "    <tr>\n",
       "      <th>4</th>\n",
       "      <td>SubSimulatorGPT2</td>\n",
       "      <td>If there was a place to have a subreddit for anything, reddit would be it.</td>\n",
       "      <td>NaN</td>\n",
       "      <td>circlejerkGPT2</td>\n",
       "      <td>1642204870</td>\n",
       "    </tr>\n",
       "    <tr>\n",
       "      <th>5</th>\n",
       "      <td>SubSimulatorGPT2</td>\n",
       "      <td>A restaurant chain where the only thing you have to pay for is a medium.</td>\n",
       "      <td>NaN</td>\n",
       "      <td>crazyideasGPT2Bot</td>\n",
       "      <td>1642203066</td>\n",
       "    </tr>\n",
       "    <tr>\n",
       "      <th>8</th>\n",
       "      <td>SubSimulatorGPT2</td>\n",
       "      <td>Nvidia gains first Gaming Company to be Patented</td>\n",
       "      <td>NaN</td>\n",
       "      <td>pcgamingGPT2Bot</td>\n",
       "      <td>1642197653</td>\n",
       "    </tr>\n",
       "    <tr>\n",
       "      <th>...</th>\n",
       "      <td>...</td>\n",
       "      <td>...</td>\n",
       "      <td>...</td>\n",
       "      <td>...</td>\n",
       "      <td>...</td>\n",
       "    </tr>\n",
       "    <tr>\n",
       "      <th>11992</th>\n",
       "      <td>SubSimulatorGPT2</td>\n",
       "      <td>TMAF about the French Revolution.</td>\n",
       "      <td>NaN</td>\n",
       "      <td>tellmeafactGPT2Bot</td>\n",
       "      <td>1614081663</td>\n",
       "    </tr>\n",
       "    <tr>\n",
       "      <th>11993</th>\n",
       "      <td>SubSimulatorGPT2</td>\n",
       "      <td>TMAF about the Holocaust.</td>\n",
       "      <td>NaN</td>\n",
       "      <td>tellmeafactGPT2Bot</td>\n",
       "      <td>1614079847</td>\n",
       "    </tr>\n",
       "    <tr>\n",
       "      <th>11996</th>\n",
       "      <td>SubSimulatorGPT2</td>\n",
       "      <td>Un-researched Discoveries</td>\n",
       "      <td>NaN</td>\n",
       "      <td>machinelearningGPT2</td>\n",
       "      <td>1614074443</td>\n",
       "    </tr>\n",
       "    <tr>\n",
       "      <th>11997</th>\n",
       "      <td>SubSimulatorGPT2</td>\n",
       "      <td>This is what a Patriot looks like</td>\n",
       "      <td>NaN</td>\n",
       "      <td>muricaGPT2Bot</td>\n",
       "      <td>1614072642</td>\n",
       "    </tr>\n",
       "    <tr>\n",
       "      <th>11998</th>\n",
       "      <td>SubSimulatorGPT2</td>\n",
       "      <td>Grilled Cheese with Sourdough</td>\n",
       "      <td>NaN</td>\n",
       "      <td>shittyfoodpornGPT2</td>\n",
       "      <td>1614070838</td>\n",
       "    </tr>\n",
       "  </tbody>\n",
       "</table>\n",
       "<p>7077 rows × 5 columns</p>\n",
       "</div>"
      ],
      "text/plain": [
       "              subreddit  \\\n",
       "2      SubSimulatorGPT2   \n",
       "3      SubSimulatorGPT2   \n",
       "4      SubSimulatorGPT2   \n",
       "5      SubSimulatorGPT2   \n",
       "8      SubSimulatorGPT2   \n",
       "...                 ...   \n",
       "11992  SubSimulatorGPT2   \n",
       "11993  SubSimulatorGPT2   \n",
       "11996  SubSimulatorGPT2   \n",
       "11997  SubSimulatorGPT2   \n",
       "11998  SubSimulatorGPT2   \n",
       "\n",
       "                                                                            title  \\\n",
       "2                     Venezuela to impose 'coup suspend' on presidential election   \n",
       "3                                                           TMAF about the Bible!   \n",
       "4      If there was a place to have a subreddit for anything, reddit would be it.   \n",
       "5        A restaurant chain where the only thing you have to pay for is a medium.   \n",
       "8                                Nvidia gains first Gaming Company to be Patented   \n",
       "...                                                                           ...   \n",
       "11992                                           TMAF about the French Revolution.   \n",
       "11993                                                   TMAF about the Holocaust.   \n",
       "11996                                                   Un-researched Discoveries   \n",
       "11997                                           This is what a Patriot looks like   \n",
       "11998                                               Grilled Cheese with Sourdough   \n",
       "\n",
       "      selftext               author  created_utc  \n",
       "2          NaN     worldnewsGPT2Bot   1642208453  \n",
       "3          NaN   tellmeafactGPT2Bot   1642206650  \n",
       "4          NaN       circlejerkGPT2   1642204870  \n",
       "5          NaN    crazyideasGPT2Bot   1642203066  \n",
       "8          NaN      pcgamingGPT2Bot   1642197653  \n",
       "...        ...                  ...          ...  \n",
       "11992      NaN   tellmeafactGPT2Bot   1614081663  \n",
       "11993      NaN   tellmeafactGPT2Bot   1614079847  \n",
       "11996      NaN  machinelearningGPT2   1614074443  \n",
       "11997      NaN        muricaGPT2Bot   1614072642  \n",
       "11998      NaN   shittyfoodpornGPT2   1614070838  \n",
       "\n",
       "[7077 rows x 5 columns]"
      ]
     },
     "execution_count": 3,
     "metadata": {},
     "output_type": "execute_result"
    }
   ],
   "source": [
    "# 7077 of 12000 posts don't have text (just images or links); dropping \n",
    "subsim[subsim.isna().any(axis=1)]"
   ]
  },
  {
   "cell_type": "code",
   "execution_count": 7,
   "id": "038eb568-4687-436c-84a3-c8b2db9b659e",
   "metadata": {},
   "outputs": [],
   "source": [
    "subsim_non_nulls = subsim.dropna(axis = 0)"
   ]
  },
  {
   "cell_type": "code",
   "execution_count": 8,
   "id": "e0bc5758-2b8c-4ce9-b340-56a1aa21ef12",
   "metadata": {},
   "outputs": [
    {
     "data": {
      "text/html": [
       "<div>\n",
       "<style scoped>\n",
       "    .dataframe tbody tr th:only-of-type {\n",
       "        vertical-align: middle;\n",
       "    }\n",
       "\n",
       "    .dataframe tbody tr th {\n",
       "        vertical-align: top;\n",
       "    }\n",
       "\n",
       "    .dataframe thead th {\n",
       "        text-align: right;\n",
       "    }\n",
       "</style>\n",
       "<table border=\"1\" class=\"dataframe\">\n",
       "  <thead>\n",
       "    <tr style=\"text-align: right;\">\n",
       "      <th></th>\n",
       "      <th>subreddit</th>\n",
       "      <th>title</th>\n",
       "      <th>selftext</th>\n",
       "      <th>author</th>\n",
       "      <th>created_utc</th>\n",
       "    </tr>\n",
       "  </thead>\n",
       "  <tbody>\n",
       "    <tr>\n",
       "      <th>0</th>\n",
       "      <td>SubSimulatorGPT2</td>\n",
       "      <td>[Form Check] Squat - 265x5</td>\n",
       "      <td>Here is a video of my Squat @ 265lbs @ 5x5. I want to get a little stronger but I dont want to o...</td>\n",
       "      <td>fitnessGPT2Bot</td>\n",
       "      <td>1642212058</td>\n",
       "    </tr>\n",
       "    <tr>\n",
       "      <th>1</th>\n",
       "      <td>SubSimulatorGPT2</td>\n",
       "      <td>\"You are you, your heart beat is your heart beat\"</td>\n",
       "      <td>It really is a great phrase.</td>\n",
       "      <td>awakenedGPT2Bot</td>\n",
       "      <td>1642210249</td>\n",
       "    </tr>\n",
       "    <tr>\n",
       "      <th>6</th>\n",
       "      <td>SubSimulatorGPT2</td>\n",
       "      <td>What are your theories on the disappearance of Mollie Tibbetts?</td>\n",
       "      <td>On October 14, 2014, a woman was seen leaving her home in the town of Newburgh, New York. She wa...</td>\n",
       "      <td>unresolvedmysteriesG</td>\n",
       "      <td>1642201254</td>\n",
       "    </tr>\n",
       "  </tbody>\n",
       "</table>\n",
       "</div>"
      ],
      "text/plain": [
       "          subreddit  \\\n",
       "0  SubSimulatorGPT2   \n",
       "1  SubSimulatorGPT2   \n",
       "6  SubSimulatorGPT2   \n",
       "\n",
       "                                                             title  \\\n",
       "0                                       [Form Check] Squat - 265x5   \n",
       "1                \"You are you, your heart beat is your heart beat\"   \n",
       "6  What are your theories on the disappearance of Mollie Tibbetts?   \n",
       "\n",
       "                                                                                              selftext  \\\n",
       "0  Here is a video of my Squat @ 265lbs @ 5x5. I want to get a little stronger but I dont want to o...   \n",
       "1                                                                         It really is a great phrase.   \n",
       "6  On October 14, 2014, a woman was seen leaving her home in the town of Newburgh, New York. She wa...   \n",
       "\n",
       "                 author  created_utc  \n",
       "0        fitnessGPT2Bot   1642212058  \n",
       "1       awakenedGPT2Bot   1642210249  \n",
       "6  unresolvedmysteriesG   1642201254  "
      ]
     },
     "execution_count": 8,
     "metadata": {},
     "output_type": "execute_result"
    }
   ],
   "source": [
    "subsim_non_nulls.head(3)"
   ]
  },
  {
   "cell_type": "code",
   "execution_count": 9,
   "id": "75138f71-608d-4bc4-9f20-b7b643e4f722",
   "metadata": {},
   "outputs": [],
   "source": [
    "# Changing index so all subsim are below 4999\n",
    "subsim_non_nulls.index = (range(0,4923))"
   ]
  },
  {
   "cell_type": "code",
   "execution_count": 10,
   "id": "14aee393-c898-407b-8254-c6cb580f8a3b",
   "metadata": {},
   "outputs": [],
   "source": [
    "cascon = pd.read_csv('../data/cascon5k_v5.csv', index_col = [0])"
   ]
  },
  {
   "cell_type": "code",
   "execution_count": 11,
   "id": "52a7bb4a-7f53-4d46-842b-ea2d8906ba0c",
   "metadata": {},
   "outputs": [
    {
     "name": "stdout",
     "output_type": "stream",
     "text": [
      "<class 'pandas.core.frame.DataFrame'>\n",
      "Int64Index: 4992 entries, 0 to 4993\n",
      "Data columns (total 5 columns):\n",
      " #   Column       Non-Null Count  Dtype \n",
      "---  ------       --------------  ----- \n",
      " 0   subreddit    4992 non-null   object\n",
      " 1   title        4992 non-null   object\n",
      " 2   selftext     4966 non-null   object\n",
      " 3   author       4992 non-null   object\n",
      " 4   created_utc  4992 non-null   int64 \n",
      "dtypes: int64(1), object(4)\n",
      "memory usage: 234.0+ KB\n"
     ]
    }
   ],
   "source": [
    "cascon.info()"
   ]
  },
  {
   "cell_type": "code",
   "execution_count": 12,
   "id": "885f0730-d272-4a6a-84ee-44dd9e31b499",
   "metadata": {},
   "outputs": [],
   "source": [
    "# dropping about 30 nulls from selftext\n",
    "cascon_non_nulls = cascon.dropna(axis = 0)"
   ]
  },
  {
   "cell_type": "code",
   "execution_count": 13,
   "id": "2e8976f2-b0a3-468c-8f03-ace0e57b2d2d",
   "metadata": {},
   "outputs": [
    {
     "data": {
      "text/html": [
       "<div>\n",
       "<style scoped>\n",
       "    .dataframe tbody tr th:only-of-type {\n",
       "        vertical-align: middle;\n",
       "    }\n",
       "\n",
       "    .dataframe tbody tr th {\n",
       "        vertical-align: top;\n",
       "    }\n",
       "\n",
       "    .dataframe thead th {\n",
       "        text-align: right;\n",
       "    }\n",
       "</style>\n",
       "<table border=\"1\" class=\"dataframe\">\n",
       "  <thead>\n",
       "    <tr style=\"text-align: right;\">\n",
       "      <th></th>\n",
       "      <th>subreddit</th>\n",
       "      <th>title</th>\n",
       "      <th>selftext</th>\n",
       "      <th>author</th>\n",
       "      <th>created_utc</th>\n",
       "    </tr>\n",
       "  </thead>\n",
       "  <tbody>\n",
       "    <tr>\n",
       "      <th>0</th>\n",
       "      <td>CasualConversation</td>\n",
       "      <td>Home Alone on a Friday night, bored really</td>\n",
       "      <td>I was supposed to have a night out with some friends but one of them got COVID so we cancelled o...</td>\n",
       "      <td>lolothens</td>\n",
       "      <td>1642211513</td>\n",
       "    </tr>\n",
       "    <tr>\n",
       "      <th>1</th>\n",
       "      <td>CasualConversation</td>\n",
       "      <td>Any insight is appreciated</td>\n",
       "      <td>[removed]</td>\n",
       "      <td>manamejop</td>\n",
       "      <td>1642210991</td>\n",
       "    </tr>\n",
       "    <tr>\n",
       "      <th>2</th>\n",
       "      <td>CasualConversation</td>\n",
       "      <td>Why do so many Windows users dread new software updates?</td>\n",
       "      <td>I see so many Microsoft Windows users usually dreading and neglecting to update their computer t...</td>\n",
       "      <td>MostHatedPersonEver</td>\n",
       "      <td>1642210661</td>\n",
       "    </tr>\n",
       "  </tbody>\n",
       "</table>\n",
       "</div>"
      ],
      "text/plain": [
       "            subreddit  \\\n",
       "0  CasualConversation   \n",
       "1  CasualConversation   \n",
       "2  CasualConversation   \n",
       "\n",
       "                                                      title  \\\n",
       "0                Home Alone on a Friday night, bored really   \n",
       "1                                Any insight is appreciated   \n",
       "2  Why do so many Windows users dread new software updates?   \n",
       "\n",
       "                                                                                              selftext  \\\n",
       "0  I was supposed to have a night out with some friends but one of them got COVID so we cancelled o...   \n",
       "1                                                                                            [removed]   \n",
       "2  I see so many Microsoft Windows users usually dreading and neglecting to update their computer t...   \n",
       "\n",
       "                author  created_utc  \n",
       "0            lolothens   1642211513  \n",
       "1            manamejop   1642210991  \n",
       "2  MostHatedPersonEver   1642210661  "
      ]
     },
     "execution_count": 13,
     "metadata": {},
     "output_type": "execute_result"
    }
   ],
   "source": [
    "cascon_non_nulls.head(3)"
   ]
  },
  {
   "cell_type": "code",
   "execution_count": 14,
   "id": "698244ff-60db-42b6-a34d-b8dc9dcbad9d",
   "metadata": {},
   "outputs": [],
   "source": [
    "# Shifting the index so cascon starts at 5000\n",
    "cascon_non_nulls.index = (range(5000,5000+len(cascon_non_nulls)))"
   ]
  },
  {
   "cell_type": "code",
   "execution_count": 15,
   "id": "13e5b37a-c98c-4548-a932-dc86a5f8de3a",
   "metadata": {},
   "outputs": [],
   "source": [
    "both_subs = subsim_non_nulls.append(cascon_non_nulls)"
   ]
  },
  {
   "cell_type": "code",
   "execution_count": 16,
   "id": "a6b6d945-c51a-4e1f-9a06-433c16e5fcbf",
   "metadata": {
    "tags": []
   },
   "outputs": [
    {
     "name": "stdout",
     "output_type": "stream",
     "text": [
      "<class 'pandas.core.frame.DataFrame'>\n",
      "Int64Index: 9889 entries, 0 to 9965\n",
      "Data columns (total 5 columns):\n",
      " #   Column       Non-Null Count  Dtype \n",
      "---  ------       --------------  ----- \n",
      " 0   subreddit    9889 non-null   object\n",
      " 1   title        9889 non-null   object\n",
      " 2   selftext     9889 non-null   object\n",
      " 3   author       9889 non-null   object\n",
      " 4   created_utc  9889 non-null   int64 \n",
      "dtypes: int64(1), object(4)\n",
      "memory usage: 463.5+ KB\n"
     ]
    }
   ],
   "source": [
    "both_subs.info()"
   ]
  },
  {
   "cell_type": "code",
   "execution_count": 17,
   "id": "f0f562ca-bda1-48e3-8f6c-a7a7fb682bf4",
   "metadata": {},
   "outputs": [],
   "source": [
    "both_subs['subreddit'] = both_subs['subreddit'].map({\n",
    "    'CasualConversation': 0, 'SubSimulatorGPT2': 1})"
   ]
  },
  {
   "cell_type": "code",
   "execution_count": 18,
   "id": "a41e33cb-96cc-4189-84bf-f3a145642b3d",
   "metadata": {
    "tags": []
   },
   "outputs": [
    {
     "data": {
      "text/html": [
       "<div>\n",
       "<style scoped>\n",
       "    .dataframe tbody tr th:only-of-type {\n",
       "        vertical-align: middle;\n",
       "    }\n",
       "\n",
       "    .dataframe tbody tr th {\n",
       "        vertical-align: top;\n",
       "    }\n",
       "\n",
       "    .dataframe thead th {\n",
       "        text-align: right;\n",
       "    }\n",
       "</style>\n",
       "<table border=\"1\" class=\"dataframe\">\n",
       "  <thead>\n",
       "    <tr style=\"text-align: right;\">\n",
       "      <th></th>\n",
       "      <th>subreddit</th>\n",
       "      <th>title</th>\n",
       "      <th>selftext</th>\n",
       "      <th>author</th>\n",
       "      <th>created_utc</th>\n",
       "    </tr>\n",
       "  </thead>\n",
       "  <tbody>\n",
       "    <tr>\n",
       "      <th>0</th>\n",
       "      <td>1</td>\n",
       "      <td>[Form Check] Squat - 265x5</td>\n",
       "      <td>Here is a video of my Squat @ 265lbs @ 5x5. I want to get a little stronger but I dont want to o...</td>\n",
       "      <td>fitnessGPT2Bot</td>\n",
       "      <td>1642212058</td>\n",
       "    </tr>\n",
       "    <tr>\n",
       "      <th>1</th>\n",
       "      <td>1</td>\n",
       "      <td>\"You are you, your heart beat is your heart beat\"</td>\n",
       "      <td>It really is a great phrase.</td>\n",
       "      <td>awakenedGPT2Bot</td>\n",
       "      <td>1642210249</td>\n",
       "    </tr>\n",
       "    <tr>\n",
       "      <th>2</th>\n",
       "      <td>1</td>\n",
       "      <td>What are your theories on the disappearance of Mollie Tibbetts?</td>\n",
       "      <td>On October 14, 2014, a woman was seen leaving her home in the town of Newburgh, New York. She wa...</td>\n",
       "      <td>unresolvedmysteriesG</td>\n",
       "      <td>1642201254</td>\n",
       "    </tr>\n",
       "  </tbody>\n",
       "</table>\n",
       "</div>"
      ],
      "text/plain": [
       "   subreddit                                                            title  \\\n",
       "0          1                                       [Form Check] Squat - 265x5   \n",
       "1          1                \"You are you, your heart beat is your heart beat\"   \n",
       "2          1  What are your theories on the disappearance of Mollie Tibbetts?   \n",
       "\n",
       "                                                                                              selftext  \\\n",
       "0  Here is a video of my Squat @ 265lbs @ 5x5. I want to get a little stronger but I dont want to o...   \n",
       "1                                                                         It really is a great phrase.   \n",
       "2  On October 14, 2014, a woman was seen leaving her home in the town of Newburgh, New York. She wa...   \n",
       "\n",
       "                 author  created_utc  \n",
       "0        fitnessGPT2Bot   1642212058  \n",
       "1       awakenedGPT2Bot   1642210249  \n",
       "2  unresolvedmysteriesG   1642201254  "
      ]
     },
     "execution_count": 18,
     "metadata": {},
     "output_type": "execute_result"
    }
   ],
   "source": [
    "both_subs.head(3)"
   ]
  },
  {
   "cell_type": "code",
   "execution_count": 19,
   "id": "dd52e664-6b1c-43e4-8620-6ff51281127b",
   "metadata": {
    "tags": []
   },
   "outputs": [],
   "source": [
    "# 1734 of CasCon posts were \"removed\" by Reddit.  2 of SimSub \"removed. Dropping from data:\n",
    "no_blanks = both_subs[(both_subs['selftext']!='[removed]')]"
   ]
  },
  {
   "cell_type": "code",
   "execution_count": 20,
   "id": "d61749ca-def4-421c-b43d-b37cc8417d80",
   "metadata": {},
   "outputs": [
    {
     "name": "stderr",
     "output_type": "stream",
     "text": [
      "/var/folders/m1/lw85csd9051bvbz6qyj0mnpm0000gn/T/ipykernel_7547/3122035719.py:1: SettingWithCopyWarning: \n",
      "A value is trying to be set on a copy of a slice from a DataFrame.\n",
      "Try using .loc[row_indexer,col_indexer] = value instead\n",
      "\n",
      "See the caveats in the documentation: https://pandas.pydata.org/pandas-docs/stable/user_guide/indexing.html#returning-a-view-versus-a-copy\n",
      "  no_blanks['doc'] = no_blanks['title'] + \" \" + no_blanks['selftext']\n"
     ]
    }
   ],
   "source": [
    "no_blanks['doc'] = no_blanks['title'] + \" \" + no_blanks['selftext']"
   ]
  },
  {
   "cell_type": "code",
   "execution_count": 21,
   "id": "8321957c-56d5-4648-b4b5-b1679fdee91a",
   "metadata": {
    "tags": []
   },
   "outputs": [
    {
     "data": {
      "text/html": [
       "<div>\n",
       "<style scoped>\n",
       "    .dataframe tbody tr th:only-of-type {\n",
       "        vertical-align: middle;\n",
       "    }\n",
       "\n",
       "    .dataframe tbody tr th {\n",
       "        vertical-align: top;\n",
       "    }\n",
       "\n",
       "    .dataframe thead th {\n",
       "        text-align: right;\n",
       "    }\n",
       "</style>\n",
       "<table border=\"1\" class=\"dataframe\">\n",
       "  <thead>\n",
       "    <tr style=\"text-align: right;\">\n",
       "      <th></th>\n",
       "      <th>subreddit</th>\n",
       "      <th>title</th>\n",
       "      <th>selftext</th>\n",
       "      <th>author</th>\n",
       "      <th>created_utc</th>\n",
       "      <th>doc</th>\n",
       "    </tr>\n",
       "  </thead>\n",
       "  <tbody>\n",
       "    <tr>\n",
       "      <th>0</th>\n",
       "      <td>1</td>\n",
       "      <td>[Form Check] Squat - 265x5</td>\n",
       "      <td>Here is a video of my Squat @ 265lbs @ 5x5. I want to get a little stronger but I dont want to o...</td>\n",
       "      <td>fitnessGPT2Bot</td>\n",
       "      <td>1642212058</td>\n",
       "      <td>[Form Check] Squat - 265x5 Here is a video of my Squat @ 265lbs @ 5x5. I want to get a little st...</td>\n",
       "    </tr>\n",
       "    <tr>\n",
       "      <th>1</th>\n",
       "      <td>1</td>\n",
       "      <td>\"You are you, your heart beat is your heart beat\"</td>\n",
       "      <td>It really is a great phrase.</td>\n",
       "      <td>awakenedGPT2Bot</td>\n",
       "      <td>1642210249</td>\n",
       "      <td>\"You are you, your heart beat is your heart beat\" It really is a great phrase.</td>\n",
       "    </tr>\n",
       "    <tr>\n",
       "      <th>2</th>\n",
       "      <td>1</td>\n",
       "      <td>What are your theories on the disappearance of Mollie Tibbetts?</td>\n",
       "      <td>On October 14, 2014, a woman was seen leaving her home in the town of Newburgh, New York. She wa...</td>\n",
       "      <td>unresolvedmysteriesG</td>\n",
       "      <td>1642201254</td>\n",
       "      <td>What are your theories on the disappearance of Mollie Tibbetts? On October 14, 2014, a woman was...</td>\n",
       "    </tr>\n",
       "  </tbody>\n",
       "</table>\n",
       "</div>"
      ],
      "text/plain": [
       "   subreddit                                                            title  \\\n",
       "0          1                                       [Form Check] Squat - 265x5   \n",
       "1          1                \"You are you, your heart beat is your heart beat\"   \n",
       "2          1  What are your theories on the disappearance of Mollie Tibbetts?   \n",
       "\n",
       "                                                                                              selftext  \\\n",
       "0  Here is a video of my Squat @ 265lbs @ 5x5. I want to get a little stronger but I dont want to o...   \n",
       "1                                                                         It really is a great phrase.   \n",
       "2  On October 14, 2014, a woman was seen leaving her home in the town of Newburgh, New York. She wa...   \n",
       "\n",
       "                 author  created_utc  \\\n",
       "0        fitnessGPT2Bot   1642212058   \n",
       "1       awakenedGPT2Bot   1642210249   \n",
       "2  unresolvedmysteriesG   1642201254   \n",
       "\n",
       "                                                                                                   doc  \n",
       "0  [Form Check] Squat - 265x5 Here is a video of my Squat @ 265lbs @ 5x5. I want to get a little st...  \n",
       "1                       \"You are you, your heart beat is your heart beat\" It really is a great phrase.  \n",
       "2  What are your theories on the disappearance of Mollie Tibbetts? On October 14, 2014, a woman was...  "
      ]
     },
     "execution_count": 21,
     "metadata": {},
     "output_type": "execute_result"
    }
   ],
   "source": [
    "no_blanks.head(3)"
   ]
  },
  {
   "cell_type": "code",
   "execution_count": 22,
   "id": "9feb4117-ef9e-45f0-90b3-436c236c29fa",
   "metadata": {
    "tags": []
   },
   "outputs": [
    {
     "name": "stderr",
     "output_type": "stream",
     "text": [
      "/var/folders/m1/lw85csd9051bvbz6qyj0mnpm0000gn/T/ipykernel_7547/1846909861.py:2: SettingWithCopyWarning: \n",
      "A value is trying to be set on a copy of a slice from a DataFrame.\n",
      "Try using .loc[row_indexer,col_indexer] = value instead\n",
      "\n",
      "See the caveats in the documentation: https://pandas.pydata.org/pandas-docs/stable/user_guide/indexing.html#returning-a-view-versus-a-copy\n",
      "  no_blanks['post_length'] = no_blanks['doc'].map(len)\n"
     ]
    }
   ],
   "source": [
    "# Creating a \"Post Length\" column for comparisons\n",
    "no_blanks['post_length'] = no_blanks['doc'].map(len)"
   ]
  },
  {
   "cell_type": "code",
   "execution_count": 23,
   "id": "f2a073fd-9a5e-4c3a-91a7-373784748d1c",
   "metadata": {
    "tags": []
   },
   "outputs": [
    {
     "data": {
      "text/html": [
       "<div>\n",
       "<style scoped>\n",
       "    .dataframe tbody tr th:only-of-type {\n",
       "        vertical-align: middle;\n",
       "    }\n",
       "\n",
       "    .dataframe tbody tr th {\n",
       "        vertical-align: top;\n",
       "    }\n",
       "\n",
       "    .dataframe thead th {\n",
       "        text-align: right;\n",
       "    }\n",
       "</style>\n",
       "<table border=\"1\" class=\"dataframe\">\n",
       "  <thead>\n",
       "    <tr style=\"text-align: right;\">\n",
       "      <th></th>\n",
       "      <th>subreddit</th>\n",
       "      <th>title</th>\n",
       "      <th>selftext</th>\n",
       "      <th>author</th>\n",
       "      <th>created_utc</th>\n",
       "      <th>doc</th>\n",
       "      <th>post_length</th>\n",
       "    </tr>\n",
       "  </thead>\n",
       "  <tbody>\n",
       "    <tr>\n",
       "      <th>0</th>\n",
       "      <td>1</td>\n",
       "      <td>[Form Check] Squat - 265x5</td>\n",
       "      <td>Here is a video of my Squat @ 265lbs @ 5x5. I want to get a little stronger but I dont want to o...</td>\n",
       "      <td>fitnessGPT2Bot</td>\n",
       "      <td>1642212058</td>\n",
       "      <td>[Form Check] Squat - 265x5 Here is a video of my Squat @ 265lbs @ 5x5. I want to get a little st...</td>\n",
       "      <td>176</td>\n",
       "    </tr>\n",
       "    <tr>\n",
       "      <th>1</th>\n",
       "      <td>1</td>\n",
       "      <td>\"You are you, your heart beat is your heart beat\"</td>\n",
       "      <td>It really is a great phrase.</td>\n",
       "      <td>awakenedGPT2Bot</td>\n",
       "      <td>1642210249</td>\n",
       "      <td>\"You are you, your heart beat is your heart beat\" It really is a great phrase.</td>\n",
       "      <td>78</td>\n",
       "    </tr>\n",
       "    <tr>\n",
       "      <th>2</th>\n",
       "      <td>1</td>\n",
       "      <td>What are your theories on the disappearance of Mollie Tibbetts?</td>\n",
       "      <td>On October 14, 2014, a woman was seen leaving her home in the town of Newburgh, New York. She wa...</td>\n",
       "      <td>unresolvedmysteriesG</td>\n",
       "      <td>1642201254</td>\n",
       "      <td>What are your theories on the disappearance of Mollie Tibbetts? On October 14, 2014, a woman was...</td>\n",
       "      <td>1069</td>\n",
       "    </tr>\n",
       "  </tbody>\n",
       "</table>\n",
       "</div>"
      ],
      "text/plain": [
       "   subreddit                                                            title  \\\n",
       "0          1                                       [Form Check] Squat - 265x5   \n",
       "1          1                \"You are you, your heart beat is your heart beat\"   \n",
       "2          1  What are your theories on the disappearance of Mollie Tibbetts?   \n",
       "\n",
       "                                                                                              selftext  \\\n",
       "0  Here is a video of my Squat @ 265lbs @ 5x5. I want to get a little stronger but I dont want to o...   \n",
       "1                                                                         It really is a great phrase.   \n",
       "2  On October 14, 2014, a woman was seen leaving her home in the town of Newburgh, New York. She wa...   \n",
       "\n",
       "                 author  created_utc  \\\n",
       "0        fitnessGPT2Bot   1642212058   \n",
       "1       awakenedGPT2Bot   1642210249   \n",
       "2  unresolvedmysteriesG   1642201254   \n",
       "\n",
       "                                                                                                   doc  \\\n",
       "0  [Form Check] Squat - 265x5 Here is a video of my Squat @ 265lbs @ 5x5. I want to get a little st...   \n",
       "1                       \"You are you, your heart beat is your heart beat\" It really is a great phrase.   \n",
       "2  What are your theories on the disappearance of Mollie Tibbetts? On October 14, 2014, a woman was...   \n",
       "\n",
       "   post_length  \n",
       "0          176  \n",
       "1           78  \n",
       "2         1069  "
      ]
     },
     "execution_count": 23,
     "metadata": {},
     "output_type": "execute_result"
    }
   ],
   "source": [
    "no_blanks.head(3)"
   ]
  },
  {
   "cell_type": "code",
   "execution_count": 26,
   "id": "fc28202e-00e0-4aea-a9d0-8ad232695cc0",
   "metadata": {},
   "outputs": [
    {
     "data": {
      "text/plain": [
       "512.6471237581259"
      ]
     },
     "execution_count": 26,
     "metadata": {},
     "output_type": "execute_result"
    }
   ],
   "source": [
    "no_blanks[no_blanks['subreddit'] == 1]['post_length'].sum()/len(no_blanks)"
   ]
  },
  {
   "cell_type": "code",
   "execution_count": null,
   "id": "b5d41842-2fa1-47a7-9ce2-404120f8f65d",
   "metadata": {},
   "outputs": [],
   "source": [
    "no_blanks.to_csv('../data/no_blanks.csv')"
   ]
  },
  {
   "cell_type": "markdown",
   "id": "768af552-0e70-4400-9749-3d7a13fc3f11",
   "metadata": {
    "tags": []
   },
   "source": [
    "## CountVectorizor w/ some changes to params: ##\n",
    "**min_df=2, max_df=0.98**"
   ]
  },
  {
   "cell_type": "markdown",
   "id": "ce698951-f33c-4ea6-9914-d0ab031dbfa3",
   "metadata": {},
   "source": [
    "**Got some code for adding stop words to the 'english' list**\n",
    "https://stackoverflow.com/questions/24386489/adding-words-to-scikit-learns-countvectorizers-stop-list"
   ]
  },
  {
   "cell_type": "code",
   "execution_count": null,
   "id": "55168d3a-0c85-4fdc-9302-2f29e156538d",
   "metadata": {},
   "outputs": [],
   "source": [
    "my_added_stop_words = ['don','ve','like','just']\n",
    "stop_words=text.ENGLISH_STOP_WORDS.union(my_added_stop_words)"
   ]
  },
  {
   "cell_type": "code",
   "execution_count": null,
   "id": "97dea020-6bc1-432e-b8b0-8d89eb721973",
   "metadata": {},
   "outputs": [],
   "source": [
    "# Instantiate a CountVectorizer with the \n",
    "#stop_words='english + my words', min_df=2, max_df=0.98 hyperparameters & default tokens\n",
    "cvec_cascon = CountVectorizer(stop_words=stop_words, min_df=2, max_df=0.98)"
   ]
  },
  {
   "cell_type": "code",
   "execution_count": null,
   "id": "5618d249-6c41-4c3d-a0d0-9fd76c8347c6",
   "metadata": {},
   "outputs": [],
   "source": [
    "cascon_df = no_blanks[(no_blanks['subreddit']==0)]\n",
    "cascon_doc = cascon_df['doc']"
   ]
  },
  {
   "cell_type": "code",
   "execution_count": null,
   "id": "71b5470e-22c7-4371-abfa-3f9a87b45ab1",
   "metadata": {},
   "outputs": [],
   "source": [
    "# Fit the vectorizer on the corpus.\n",
    "cvec_cascon.fit(cascon_doc)"
   ]
  },
  {
   "cell_type": "code",
   "execution_count": 238,
   "id": "7611a8c6-4d2a-4fd8-ad5f-0b517e12cba5",
   "metadata": {},
   "outputs": [
    {
     "data": {
      "text/plain": [
       "8244"
      ]
     },
     "execution_count": 238,
     "metadata": {},
     "output_type": "execute_result"
    }
   ],
   "source": [
    "# 8244 words in CasCon\n",
    "len(cvec_cascon.get_feature_names())"
   ]
  },
  {
   "cell_type": "code",
   "execution_count": null,
   "id": "40eac952-3965-4314-9a1f-6606759b816c",
   "metadata": {},
   "outputs": [],
   "source": [
    "# Transforming the data to a sparse array for analysis\n",
    "cascon_trans = cvec_cascon.transform(cascon_doc)"
   ]
  },
  {
   "cell_type": "code",
   "execution_count": null,
   "id": "c4b270bb-83f3-4d95-a337-52efc9e7e742",
   "metadata": {},
   "outputs": [],
   "source": [
    "# convert training data to dataframe (densifying columns again to view)\n",
    "cascon_trans_df = pd.DataFrame(cascon_trans.todense(), \n",
    "                               columns=cvec_cascon.get_feature_names())"
   ]
  },
  {
   "cell_type": "code",
   "execution_count": 234,
   "id": "200c12dc-0f3d-47ea-9a9b-45f71383d4ac",
   "metadata": {},
   "outputs": [
    {
     "data": {
      "image/png": "[encoded data removed]",
      "text/plain": [
       "<Figure size 432x288 with 1 Axes>"
      ]
     },
     "metadata": {
      "needs_background": "light"
     },
     "output_type": "display_data"
    }
   ],
   "source": [
    "# plot top occuring words in Casual Conversations\n",
    "cascon_trans_df.sum().sort_values().tail(10).plot(kind='barh');"
   ]
  },
  {
   "cell_type": "code",
   "execution_count": null,
   "id": "8d7e7ab9-0097-42cd-bf77-b1ab0be21c82",
   "metadata": {},
   "outputs": [],
   "source": [
    "cvec_subsim = CountVectorizer(stop_words=stop_words, min_df=2, max_df=0.98)"
   ]
  },
  {
   "cell_type": "code",
   "execution_count": null,
   "id": "373b8c2f-f36f-441a-9a38-c8fb867592f0",
   "metadata": {},
   "outputs": [],
   "source": [
    "subsim_df = no_blanks[(no_blanks['subreddit']==1)]\n",
    "subsim_doc = subsim_df['doc']"
   ]
  },
  {
   "cell_type": "code",
   "execution_count": null,
   "id": "a6c5e634-82a3-4620-b8e6-44df823c7649",
   "metadata": {},
   "outputs": [],
   "source": [
    "cvec_subsim.fit(subsim_doc)"
   ]
  },
  {
   "cell_type": "code",
   "execution_count": 237,
   "id": "4af8c2ac-57bb-4584-92b3-f28f32961274",
   "metadata": {},
   "outputs": [
    {
     "data": {
      "text/plain": [
       "8630"
      ]
     },
     "execution_count": 237,
     "metadata": {},
     "output_type": "execute_result"
    }
   ],
   "source": [
    "#8630 words\n",
    "len(cvec_subsim.get_feature_names())"
   ]
  },
  {
   "cell_type": "code",
   "execution_count": null,
   "id": "6f285639-3b9c-4e37-9f07-a1f6efbc04ec",
   "metadata": {},
   "outputs": [],
   "source": [
    "# Transforming the data to a sparse array for analysis\n",
    "subsim_trans = cvec_subsim.transform(subsim_doc)"
   ]
  },
  {
   "cell_type": "code",
   "execution_count": null,
   "id": "9ea345b1-38da-4556-97d9-939bf31286e6",
   "metadata": {},
   "outputs": [],
   "source": [
    "# convert training data to dataframe (densifying columns again to view)\n",
    "subsim_trans_df = pd.DataFrame(subsim_trans.todense(), \n",
    "                               columns=cvec_subsim.get_feature_names())"
   ]
  },
  {
   "cell_type": "code",
   "execution_count": 235,
   "id": "5d043693-823d-4336-a4c1-8e36e5411265",
   "metadata": {},
   "outputs": [
    {
     "data": {
      "image/png": "[encoded data removed]",
      "text/plain": [
       "<Figure size 432x288 with 1 Axes>"
      ]
     },
     "metadata": {
      "needs_background": "light"
     },
     "output_type": "display_data"
    }
   ],
   "source": [
    "# plot top occuring words in Casual Conversations\n",
    "subsim_trans_df.sum().sort_values().tail(10).plot(kind='barh');"
   ]
  },
  {
   "cell_type": "code",
   "execution_count": null,
   "id": "ac714b30-8fe7-4a5c-b63d-13b5078c3510",
   "metadata": {},
   "outputs": [],
   "source": []
  }
 ],
 "metadata": {
  "kernelspec": {
   "display_name": "Python 3 (ipykernel)",
   "language": "python",
   "name": "python3"
  },
  "language_info": {
   "codemirror_mode": {
    "name": "ipython",
    "version": 3
   },
   "file_extension": ".py",
   "mimetype": "text/x-python",
   "name": "python",
   "nbconvert_exporter": "python",
   "pygments_lexer": "ipython3",
   "version": "3.9.7"
  }
 },
 "nbformat": 4,
 "nbformat_minor": 5
}
